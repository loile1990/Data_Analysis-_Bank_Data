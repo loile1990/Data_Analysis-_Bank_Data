{
  "nbformat": 4,
  "nbformat_minor": 0,
  "metadata": {
    "colab": {
      "name": "Untitled9.ipynb",
      "provenance": [],
      "collapsed_sections": []
    },
    "kernelspec": {
      "name": "python3",
      "display_name": "Python 3"
    },
    "language_info": {
      "name": "python"
    },
    "accelerator": "GPU"
  },
  "cells": [
    {
      "cell_type": "markdown",
      "source": [
        "**LÊ VĂN LỢI-Viettel IDC-DA**"
      ],
      "metadata": {
        "id": "X9s4bvFKjpFA"
      }
    },
    {
      "cell_type": "markdown",
      "source": [
        "Import Libs"
      ],
      "metadata": {
        "id": "UhacoZjX4VyZ"
      }
    },
    {
      "cell_type": "code",
      "execution_count": 9,
      "metadata": {
        "id": "gHbU5-VZCRSh"
      },
      "outputs": [],
      "source": [
        "import matplotlib.pyplot as plt\n",
        "import numpy as np\n",
        "import pandas as pd\n",
        "import seaborn as sns\n",
        "import matplotlib.pyplot as plt\n",
        "import missingno\n",
        "import seaborn as sns\n",
        "import pandas.plotting\n",
        "import math\n",
        "%matplotlib inline"
      ]
    },
    {
      "cell_type": "code",
      "source": [
        "from keras.models import Sequential\n",
        "from keras.layers import Dense"
      ],
      "metadata": {
        "id": "1_JnKmAsKbL6"
      },
      "execution_count": 10,
      "outputs": []
    },
    {
      "cell_type": "markdown",
      "source": [
        "Load data"
      ],
      "metadata": {
        "id": "LOz5W7Uv43PZ"
      }
    },
    {
      "cell_type": "code",
      "source": [
        "data = pd.read_csv('bank.csv',sep = ';')  \n",
        "# Display\n",
        "data"
      ],
      "metadata": {
        "colab": {
          "base_uri": "https://localhost:8080/",
          "height": 487
        },
        "id": "Wx6lQpdiCXuV",
        "outputId": "48678365-08d2-4e85-88de-df9da53307c4"
      },
      "execution_count": 12,
      "outputs": [
        {
          "output_type": "execute_result",
          "data": {
            "text/html": [
              "\n",
              "  <div id=\"df-04e6e159-b9da-4d47-8d9e-0905d98380ab\">\n",
              "    <div class=\"colab-df-container\">\n",
              "      <div>\n",
              "<style scoped>\n",
              "    .dataframe tbody tr th:only-of-type {\n",
              "        vertical-align: middle;\n",
              "    }\n",
              "\n",
              "    .dataframe tbody tr th {\n",
              "        vertical-align: top;\n",
              "    }\n",
              "\n",
              "    .dataframe thead th {\n",
              "        text-align: right;\n",
              "    }\n",
              "</style>\n",
              "<table border=\"1\" class=\"dataframe\">\n",
              "  <thead>\n",
              "    <tr style=\"text-align: right;\">\n",
              "      <th></th>\n",
              "      <th>age</th>\n",
              "      <th>job</th>\n",
              "      <th>marital</th>\n",
              "      <th>education</th>\n",
              "      <th>default</th>\n",
              "      <th>housing</th>\n",
              "      <th>loan</th>\n",
              "      <th>contact</th>\n",
              "      <th>month</th>\n",
              "      <th>day_of_week</th>\n",
              "      <th>duration</th>\n",
              "      <th>campaign</th>\n",
              "      <th>pdays</th>\n",
              "      <th>previous</th>\n",
              "      <th>poutcome</th>\n",
              "      <th>emp.var.rate</th>\n",
              "      <th>cons.price.idx</th>\n",
              "      <th>cons.conf.idx</th>\n",
              "      <th>euribor3m</th>\n",
              "      <th>nr.employed</th>\n",
              "      <th>y</th>\n",
              "    </tr>\n",
              "  </thead>\n",
              "  <tbody>\n",
              "    <tr>\n",
              "      <th>0</th>\n",
              "      <td>56</td>\n",
              "      <td>housemaid</td>\n",
              "      <td>married</td>\n",
              "      <td>basic.4y</td>\n",
              "      <td>no</td>\n",
              "      <td>no</td>\n",
              "      <td>no</td>\n",
              "      <td>telephone</td>\n",
              "      <td>may</td>\n",
              "      <td>mon</td>\n",
              "      <td>261</td>\n",
              "      <td>1</td>\n",
              "      <td>999</td>\n",
              "      <td>0</td>\n",
              "      <td>nonexistent</td>\n",
              "      <td>1.1</td>\n",
              "      <td>93.994</td>\n",
              "      <td>-36.4</td>\n",
              "      <td>4.857</td>\n",
              "      <td>5191.0</td>\n",
              "      <td>no</td>\n",
              "    </tr>\n",
              "    <tr>\n",
              "      <th>1</th>\n",
              "      <td>57</td>\n",
              "      <td>services</td>\n",
              "      <td>married</td>\n",
              "      <td>high.school</td>\n",
              "      <td>unknown</td>\n",
              "      <td>no</td>\n",
              "      <td>no</td>\n",
              "      <td>telephone</td>\n",
              "      <td>may</td>\n",
              "      <td>mon</td>\n",
              "      <td>149</td>\n",
              "      <td>1</td>\n",
              "      <td>999</td>\n",
              "      <td>0</td>\n",
              "      <td>nonexistent</td>\n",
              "      <td>1.1</td>\n",
              "      <td>93.994</td>\n",
              "      <td>-36.4</td>\n",
              "      <td>4.857</td>\n",
              "      <td>5191.0</td>\n",
              "      <td>no</td>\n",
              "    </tr>\n",
              "    <tr>\n",
              "      <th>2</th>\n",
              "      <td>37</td>\n",
              "      <td>services</td>\n",
              "      <td>married</td>\n",
              "      <td>high.school</td>\n",
              "      <td>no</td>\n",
              "      <td>yes</td>\n",
              "      <td>no</td>\n",
              "      <td>telephone</td>\n",
              "      <td>may</td>\n",
              "      <td>mon</td>\n",
              "      <td>226</td>\n",
              "      <td>1</td>\n",
              "      <td>999</td>\n",
              "      <td>0</td>\n",
              "      <td>nonexistent</td>\n",
              "      <td>1.1</td>\n",
              "      <td>93.994</td>\n",
              "      <td>-36.4</td>\n",
              "      <td>4.857</td>\n",
              "      <td>5191.0</td>\n",
              "      <td>no</td>\n",
              "    </tr>\n",
              "    <tr>\n",
              "      <th>3</th>\n",
              "      <td>40</td>\n",
              "      <td>admin.</td>\n",
              "      <td>married</td>\n",
              "      <td>basic.6y</td>\n",
              "      <td>no</td>\n",
              "      <td>no</td>\n",
              "      <td>no</td>\n",
              "      <td>telephone</td>\n",
              "      <td>may</td>\n",
              "      <td>mon</td>\n",
              "      <td>151</td>\n",
              "      <td>1</td>\n",
              "      <td>999</td>\n",
              "      <td>0</td>\n",
              "      <td>nonexistent</td>\n",
              "      <td>1.1</td>\n",
              "      <td>93.994</td>\n",
              "      <td>-36.4</td>\n",
              "      <td>4.857</td>\n",
              "      <td>5191.0</td>\n",
              "      <td>no</td>\n",
              "    </tr>\n",
              "    <tr>\n",
              "      <th>4</th>\n",
              "      <td>56</td>\n",
              "      <td>services</td>\n",
              "      <td>married</td>\n",
              "      <td>high.school</td>\n",
              "      <td>no</td>\n",
              "      <td>no</td>\n",
              "      <td>yes</td>\n",
              "      <td>telephone</td>\n",
              "      <td>may</td>\n",
              "      <td>mon</td>\n",
              "      <td>307</td>\n",
              "      <td>1</td>\n",
              "      <td>999</td>\n",
              "      <td>0</td>\n",
              "      <td>nonexistent</td>\n",
              "      <td>1.1</td>\n",
              "      <td>93.994</td>\n",
              "      <td>-36.4</td>\n",
              "      <td>4.857</td>\n",
              "      <td>5191.0</td>\n",
              "      <td>no</td>\n",
              "    </tr>\n",
              "    <tr>\n",
              "      <th>...</th>\n",
              "      <td>...</td>\n",
              "      <td>...</td>\n",
              "      <td>...</td>\n",
              "      <td>...</td>\n",
              "      <td>...</td>\n",
              "      <td>...</td>\n",
              "      <td>...</td>\n",
              "      <td>...</td>\n",
              "      <td>...</td>\n",
              "      <td>...</td>\n",
              "      <td>...</td>\n",
              "      <td>...</td>\n",
              "      <td>...</td>\n",
              "      <td>...</td>\n",
              "      <td>...</td>\n",
              "      <td>...</td>\n",
              "      <td>...</td>\n",
              "      <td>...</td>\n",
              "      <td>...</td>\n",
              "      <td>...</td>\n",
              "      <td>...</td>\n",
              "    </tr>\n",
              "    <tr>\n",
              "      <th>41183</th>\n",
              "      <td>73</td>\n",
              "      <td>retired</td>\n",
              "      <td>married</td>\n",
              "      <td>professional.course</td>\n",
              "      <td>no</td>\n",
              "      <td>yes</td>\n",
              "      <td>no</td>\n",
              "      <td>cellular</td>\n",
              "      <td>nov</td>\n",
              "      <td>fri</td>\n",
              "      <td>334</td>\n",
              "      <td>1</td>\n",
              "      <td>999</td>\n",
              "      <td>0</td>\n",
              "      <td>nonexistent</td>\n",
              "      <td>-1.1</td>\n",
              "      <td>94.767</td>\n",
              "      <td>-50.8</td>\n",
              "      <td>1.028</td>\n",
              "      <td>4963.6</td>\n",
              "      <td>yes</td>\n",
              "    </tr>\n",
              "    <tr>\n",
              "      <th>41184</th>\n",
              "      <td>46</td>\n",
              "      <td>blue-collar</td>\n",
              "      <td>married</td>\n",
              "      <td>professional.course</td>\n",
              "      <td>no</td>\n",
              "      <td>no</td>\n",
              "      <td>no</td>\n",
              "      <td>cellular</td>\n",
              "      <td>nov</td>\n",
              "      <td>fri</td>\n",
              "      <td>383</td>\n",
              "      <td>1</td>\n",
              "      <td>999</td>\n",
              "      <td>0</td>\n",
              "      <td>nonexistent</td>\n",
              "      <td>-1.1</td>\n",
              "      <td>94.767</td>\n",
              "      <td>-50.8</td>\n",
              "      <td>1.028</td>\n",
              "      <td>4963.6</td>\n",
              "      <td>no</td>\n",
              "    </tr>\n",
              "    <tr>\n",
              "      <th>41185</th>\n",
              "      <td>56</td>\n",
              "      <td>retired</td>\n",
              "      <td>married</td>\n",
              "      <td>university.degree</td>\n",
              "      <td>no</td>\n",
              "      <td>yes</td>\n",
              "      <td>no</td>\n",
              "      <td>cellular</td>\n",
              "      <td>nov</td>\n",
              "      <td>fri</td>\n",
              "      <td>189</td>\n",
              "      <td>2</td>\n",
              "      <td>999</td>\n",
              "      <td>0</td>\n",
              "      <td>nonexistent</td>\n",
              "      <td>-1.1</td>\n",
              "      <td>94.767</td>\n",
              "      <td>-50.8</td>\n",
              "      <td>1.028</td>\n",
              "      <td>4963.6</td>\n",
              "      <td>no</td>\n",
              "    </tr>\n",
              "    <tr>\n",
              "      <th>41186</th>\n",
              "      <td>44</td>\n",
              "      <td>technician</td>\n",
              "      <td>married</td>\n",
              "      <td>professional.course</td>\n",
              "      <td>no</td>\n",
              "      <td>no</td>\n",
              "      <td>no</td>\n",
              "      <td>cellular</td>\n",
              "      <td>nov</td>\n",
              "      <td>fri</td>\n",
              "      <td>442</td>\n",
              "      <td>1</td>\n",
              "      <td>999</td>\n",
              "      <td>0</td>\n",
              "      <td>nonexistent</td>\n",
              "      <td>-1.1</td>\n",
              "      <td>94.767</td>\n",
              "      <td>-50.8</td>\n",
              "      <td>1.028</td>\n",
              "      <td>4963.6</td>\n",
              "      <td>yes</td>\n",
              "    </tr>\n",
              "    <tr>\n",
              "      <th>41187</th>\n",
              "      <td>74</td>\n",
              "      <td>retired</td>\n",
              "      <td>married</td>\n",
              "      <td>professional.course</td>\n",
              "      <td>no</td>\n",
              "      <td>yes</td>\n",
              "      <td>no</td>\n",
              "      <td>cellular</td>\n",
              "      <td>nov</td>\n",
              "      <td>fri</td>\n",
              "      <td>239</td>\n",
              "      <td>3</td>\n",
              "      <td>999</td>\n",
              "      <td>1</td>\n",
              "      <td>failure</td>\n",
              "      <td>-1.1</td>\n",
              "      <td>94.767</td>\n",
              "      <td>-50.8</td>\n",
              "      <td>1.028</td>\n",
              "      <td>4963.6</td>\n",
              "      <td>no</td>\n",
              "    </tr>\n",
              "  </tbody>\n",
              "</table>\n",
              "<p>41188 rows × 21 columns</p>\n",
              "</div>\n",
              "      <button class=\"colab-df-convert\" onclick=\"convertToInteractive('df-04e6e159-b9da-4d47-8d9e-0905d98380ab')\"\n",
              "              title=\"Convert this dataframe to an interactive table.\"\n",
              "              style=\"display:none;\">\n",
              "        \n",
              "  <svg xmlns=\"http://www.w3.org/2000/svg\" height=\"24px\"viewBox=\"0 0 24 24\"\n",
              "       width=\"24px\">\n",
              "    <path d=\"M0 0h24v24H0V0z\" fill=\"none\"/>\n",
              "    <path d=\"M18.56 5.44l.94 2.06.94-2.06 2.06-.94-2.06-.94-.94-2.06-.94 2.06-2.06.94zm-11 1L8.5 8.5l.94-2.06 2.06-.94-2.06-.94L8.5 2.5l-.94 2.06-2.06.94zm10 10l.94 2.06.94-2.06 2.06-.94-2.06-.94-.94-2.06-.94 2.06-2.06.94z\"/><path d=\"M17.41 7.96l-1.37-1.37c-.4-.4-.92-.59-1.43-.59-.52 0-1.04.2-1.43.59L10.3 9.45l-7.72 7.72c-.78.78-.78 2.05 0 2.83L4 21.41c.39.39.9.59 1.41.59.51 0 1.02-.2 1.41-.59l7.78-7.78 2.81-2.81c.8-.78.8-2.07 0-2.86zM5.41 20L4 18.59l7.72-7.72 1.47 1.35L5.41 20z\"/>\n",
              "  </svg>\n",
              "      </button>\n",
              "      \n",
              "  <style>\n",
              "    .colab-df-container {\n",
              "      display:flex;\n",
              "      flex-wrap:wrap;\n",
              "      gap: 12px;\n",
              "    }\n",
              "\n",
              "    .colab-df-convert {\n",
              "      background-color: #E8F0FE;\n",
              "      border: none;\n",
              "      border-radius: 50%;\n",
              "      cursor: pointer;\n",
              "      display: none;\n",
              "      fill: #1967D2;\n",
              "      height: 32px;\n",
              "      padding: 0 0 0 0;\n",
              "      width: 32px;\n",
              "    }\n",
              "\n",
              "    .colab-df-convert:hover {\n",
              "      background-color: #E2EBFA;\n",
              "      box-shadow: 0px 1px 2px rgba(60, 64, 67, 0.3), 0px 1px 3px 1px rgba(60, 64, 67, 0.15);\n",
              "      fill: #174EA6;\n",
              "    }\n",
              "\n",
              "    [theme=dark] .colab-df-convert {\n",
              "      background-color: #3B4455;\n",
              "      fill: #D2E3FC;\n",
              "    }\n",
              "\n",
              "    [theme=dark] .colab-df-convert:hover {\n",
              "      background-color: #434B5C;\n",
              "      box-shadow: 0px 1px 3px 1px rgba(0, 0, 0, 0.15);\n",
              "      filter: drop-shadow(0px 1px 2px rgba(0, 0, 0, 0.3));\n",
              "      fill: #FFFFFF;\n",
              "    }\n",
              "  </style>\n",
              "\n",
              "      <script>\n",
              "        const buttonEl =\n",
              "          document.querySelector('#df-04e6e159-b9da-4d47-8d9e-0905d98380ab button.colab-df-convert');\n",
              "        buttonEl.style.display =\n",
              "          google.colab.kernel.accessAllowed ? 'block' : 'none';\n",
              "\n",
              "        async function convertToInteractive(key) {\n",
              "          const element = document.querySelector('#df-04e6e159-b9da-4d47-8d9e-0905d98380ab');\n",
              "          const dataTable =\n",
              "            await google.colab.kernel.invokeFunction('convertToInteractive',\n",
              "                                                     [key], {});\n",
              "          if (!dataTable) return;\n",
              "\n",
              "          const docLinkHtml = 'Like what you see? Visit the ' +\n",
              "            '<a target=\"_blank\" href=https://colab.research.google.com/notebooks/data_table.ipynb>data table notebook</a>'\n",
              "            + ' to learn more about interactive tables.';\n",
              "          element.innerHTML = '';\n",
              "          dataTable['output_type'] = 'display_data';\n",
              "          await google.colab.output.renderOutput(dataTable, element);\n",
              "          const docLink = document.createElement('div');\n",
              "          docLink.innerHTML = docLinkHtml;\n",
              "          element.appendChild(docLink);\n",
              "        }\n",
              "      </script>\n",
              "    </div>\n",
              "  </div>\n",
              "  "
            ],
            "text/plain": [
              "       age          job  marital  ... euribor3m nr.employed    y\n",
              "0       56    housemaid  married  ...     4.857      5191.0   no\n",
              "1       57     services  married  ...     4.857      5191.0   no\n",
              "2       37     services  married  ...     4.857      5191.0   no\n",
              "3       40       admin.  married  ...     4.857      5191.0   no\n",
              "4       56     services  married  ...     4.857      5191.0   no\n",
              "...    ...          ...      ...  ...       ...         ...  ...\n",
              "41183   73      retired  married  ...     1.028      4963.6  yes\n",
              "41184   46  blue-collar  married  ...     1.028      4963.6   no\n",
              "41185   56      retired  married  ...     1.028      4963.6   no\n",
              "41186   44   technician  married  ...     1.028      4963.6  yes\n",
              "41187   74      retired  married  ...     1.028      4963.6   no\n",
              "\n",
              "[41188 rows x 21 columns]"
            ]
          },
          "metadata": {},
          "execution_count": 12
        }
      ]
    },
    {
      "cell_type": "markdown",
      "source": [
        "# Miêu tả data"
      ],
      "metadata": {
        "id": "noJlpCAz5MEQ"
      }
    },
    {
      "cell_type": "code",
      "source": [
        "data.describe(include='all')"
      ],
      "metadata": {
        "colab": {
          "base_uri": "https://localhost:8080/",
          "height": 458
        },
        "id": "CcGOUbnlFe3V",
        "outputId": "20f02546-0478-4a62-a3b7-b6786fd6e4de"
      },
      "execution_count": 13,
      "outputs": [
        {
          "output_type": "execute_result",
          "data": {
            "text/html": [
              "\n",
              "  <div id=\"df-8976a225-05eb-4832-b2ca-fd8ea0d41dce\">\n",
              "    <div class=\"colab-df-container\">\n",
              "      <div>\n",
              "<style scoped>\n",
              "    .dataframe tbody tr th:only-of-type {\n",
              "        vertical-align: middle;\n",
              "    }\n",
              "\n",
              "    .dataframe tbody tr th {\n",
              "        vertical-align: top;\n",
              "    }\n",
              "\n",
              "    .dataframe thead th {\n",
              "        text-align: right;\n",
              "    }\n",
              "</style>\n",
              "<table border=\"1\" class=\"dataframe\">\n",
              "  <thead>\n",
              "    <tr style=\"text-align: right;\">\n",
              "      <th></th>\n",
              "      <th>age</th>\n",
              "      <th>job</th>\n",
              "      <th>marital</th>\n",
              "      <th>education</th>\n",
              "      <th>default</th>\n",
              "      <th>housing</th>\n",
              "      <th>loan</th>\n",
              "      <th>contact</th>\n",
              "      <th>month</th>\n",
              "      <th>day_of_week</th>\n",
              "      <th>duration</th>\n",
              "      <th>campaign</th>\n",
              "      <th>pdays</th>\n",
              "      <th>previous</th>\n",
              "      <th>poutcome</th>\n",
              "      <th>emp.var.rate</th>\n",
              "      <th>cons.price.idx</th>\n",
              "      <th>cons.conf.idx</th>\n",
              "      <th>euribor3m</th>\n",
              "      <th>nr.employed</th>\n",
              "      <th>y</th>\n",
              "    </tr>\n",
              "  </thead>\n",
              "  <tbody>\n",
              "    <tr>\n",
              "      <th>count</th>\n",
              "      <td>41188.00000</td>\n",
              "      <td>41188</td>\n",
              "      <td>41188</td>\n",
              "      <td>41188</td>\n",
              "      <td>41188</td>\n",
              "      <td>41188</td>\n",
              "      <td>41188</td>\n",
              "      <td>41188</td>\n",
              "      <td>41188</td>\n",
              "      <td>41188</td>\n",
              "      <td>41188.000000</td>\n",
              "      <td>41188.000000</td>\n",
              "      <td>41188.000000</td>\n",
              "      <td>41188.000000</td>\n",
              "      <td>41188</td>\n",
              "      <td>41188.000000</td>\n",
              "      <td>41188.000000</td>\n",
              "      <td>41188.000000</td>\n",
              "      <td>41188.000000</td>\n",
              "      <td>41188.000000</td>\n",
              "      <td>41188</td>\n",
              "    </tr>\n",
              "    <tr>\n",
              "      <th>unique</th>\n",
              "      <td>NaN</td>\n",
              "      <td>12</td>\n",
              "      <td>4</td>\n",
              "      <td>8</td>\n",
              "      <td>3</td>\n",
              "      <td>3</td>\n",
              "      <td>3</td>\n",
              "      <td>2</td>\n",
              "      <td>10</td>\n",
              "      <td>5</td>\n",
              "      <td>NaN</td>\n",
              "      <td>NaN</td>\n",
              "      <td>NaN</td>\n",
              "      <td>NaN</td>\n",
              "      <td>3</td>\n",
              "      <td>NaN</td>\n",
              "      <td>NaN</td>\n",
              "      <td>NaN</td>\n",
              "      <td>NaN</td>\n",
              "      <td>NaN</td>\n",
              "      <td>2</td>\n",
              "    </tr>\n",
              "    <tr>\n",
              "      <th>top</th>\n",
              "      <td>NaN</td>\n",
              "      <td>admin.</td>\n",
              "      <td>married</td>\n",
              "      <td>university.degree</td>\n",
              "      <td>no</td>\n",
              "      <td>yes</td>\n",
              "      <td>no</td>\n",
              "      <td>cellular</td>\n",
              "      <td>may</td>\n",
              "      <td>thu</td>\n",
              "      <td>NaN</td>\n",
              "      <td>NaN</td>\n",
              "      <td>NaN</td>\n",
              "      <td>NaN</td>\n",
              "      <td>nonexistent</td>\n",
              "      <td>NaN</td>\n",
              "      <td>NaN</td>\n",
              "      <td>NaN</td>\n",
              "      <td>NaN</td>\n",
              "      <td>NaN</td>\n",
              "      <td>no</td>\n",
              "    </tr>\n",
              "    <tr>\n",
              "      <th>freq</th>\n",
              "      <td>NaN</td>\n",
              "      <td>10422</td>\n",
              "      <td>24928</td>\n",
              "      <td>12168</td>\n",
              "      <td>32588</td>\n",
              "      <td>21576</td>\n",
              "      <td>33950</td>\n",
              "      <td>26144</td>\n",
              "      <td>13769</td>\n",
              "      <td>8623</td>\n",
              "      <td>NaN</td>\n",
              "      <td>NaN</td>\n",
              "      <td>NaN</td>\n",
              "      <td>NaN</td>\n",
              "      <td>35563</td>\n",
              "      <td>NaN</td>\n",
              "      <td>NaN</td>\n",
              "      <td>NaN</td>\n",
              "      <td>NaN</td>\n",
              "      <td>NaN</td>\n",
              "      <td>36548</td>\n",
              "    </tr>\n",
              "    <tr>\n",
              "      <th>mean</th>\n",
              "      <td>40.02406</td>\n",
              "      <td>NaN</td>\n",
              "      <td>NaN</td>\n",
              "      <td>NaN</td>\n",
              "      <td>NaN</td>\n",
              "      <td>NaN</td>\n",
              "      <td>NaN</td>\n",
              "      <td>NaN</td>\n",
              "      <td>NaN</td>\n",
              "      <td>NaN</td>\n",
              "      <td>258.285010</td>\n",
              "      <td>2.567593</td>\n",
              "      <td>962.475454</td>\n",
              "      <td>0.172963</td>\n",
              "      <td>NaN</td>\n",
              "      <td>0.081886</td>\n",
              "      <td>93.575664</td>\n",
              "      <td>-40.502600</td>\n",
              "      <td>3.621291</td>\n",
              "      <td>5167.035911</td>\n",
              "      <td>NaN</td>\n",
              "    </tr>\n",
              "    <tr>\n",
              "      <th>std</th>\n",
              "      <td>10.42125</td>\n",
              "      <td>NaN</td>\n",
              "      <td>NaN</td>\n",
              "      <td>NaN</td>\n",
              "      <td>NaN</td>\n",
              "      <td>NaN</td>\n",
              "      <td>NaN</td>\n",
              "      <td>NaN</td>\n",
              "      <td>NaN</td>\n",
              "      <td>NaN</td>\n",
              "      <td>259.279249</td>\n",
              "      <td>2.770014</td>\n",
              "      <td>186.910907</td>\n",
              "      <td>0.494901</td>\n",
              "      <td>NaN</td>\n",
              "      <td>1.570960</td>\n",
              "      <td>0.578840</td>\n",
              "      <td>4.628198</td>\n",
              "      <td>1.734447</td>\n",
              "      <td>72.251528</td>\n",
              "      <td>NaN</td>\n",
              "    </tr>\n",
              "    <tr>\n",
              "      <th>min</th>\n",
              "      <td>17.00000</td>\n",
              "      <td>NaN</td>\n",
              "      <td>NaN</td>\n",
              "      <td>NaN</td>\n",
              "      <td>NaN</td>\n",
              "      <td>NaN</td>\n",
              "      <td>NaN</td>\n",
              "      <td>NaN</td>\n",
              "      <td>NaN</td>\n",
              "      <td>NaN</td>\n",
              "      <td>0.000000</td>\n",
              "      <td>1.000000</td>\n",
              "      <td>0.000000</td>\n",
              "      <td>0.000000</td>\n",
              "      <td>NaN</td>\n",
              "      <td>-3.400000</td>\n",
              "      <td>92.201000</td>\n",
              "      <td>-50.800000</td>\n",
              "      <td>0.634000</td>\n",
              "      <td>4963.600000</td>\n",
              "      <td>NaN</td>\n",
              "    </tr>\n",
              "    <tr>\n",
              "      <th>25%</th>\n",
              "      <td>32.00000</td>\n",
              "      <td>NaN</td>\n",
              "      <td>NaN</td>\n",
              "      <td>NaN</td>\n",
              "      <td>NaN</td>\n",
              "      <td>NaN</td>\n",
              "      <td>NaN</td>\n",
              "      <td>NaN</td>\n",
              "      <td>NaN</td>\n",
              "      <td>NaN</td>\n",
              "      <td>102.000000</td>\n",
              "      <td>1.000000</td>\n",
              "      <td>999.000000</td>\n",
              "      <td>0.000000</td>\n",
              "      <td>NaN</td>\n",
              "      <td>-1.800000</td>\n",
              "      <td>93.075000</td>\n",
              "      <td>-42.700000</td>\n",
              "      <td>1.344000</td>\n",
              "      <td>5099.100000</td>\n",
              "      <td>NaN</td>\n",
              "    </tr>\n",
              "    <tr>\n",
              "      <th>50%</th>\n",
              "      <td>38.00000</td>\n",
              "      <td>NaN</td>\n",
              "      <td>NaN</td>\n",
              "      <td>NaN</td>\n",
              "      <td>NaN</td>\n",
              "      <td>NaN</td>\n",
              "      <td>NaN</td>\n",
              "      <td>NaN</td>\n",
              "      <td>NaN</td>\n",
              "      <td>NaN</td>\n",
              "      <td>180.000000</td>\n",
              "      <td>2.000000</td>\n",
              "      <td>999.000000</td>\n",
              "      <td>0.000000</td>\n",
              "      <td>NaN</td>\n",
              "      <td>1.100000</td>\n",
              "      <td>93.749000</td>\n",
              "      <td>-41.800000</td>\n",
              "      <td>4.857000</td>\n",
              "      <td>5191.000000</td>\n",
              "      <td>NaN</td>\n",
              "    </tr>\n",
              "    <tr>\n",
              "      <th>75%</th>\n",
              "      <td>47.00000</td>\n",
              "      <td>NaN</td>\n",
              "      <td>NaN</td>\n",
              "      <td>NaN</td>\n",
              "      <td>NaN</td>\n",
              "      <td>NaN</td>\n",
              "      <td>NaN</td>\n",
              "      <td>NaN</td>\n",
              "      <td>NaN</td>\n",
              "      <td>NaN</td>\n",
              "      <td>319.000000</td>\n",
              "      <td>3.000000</td>\n",
              "      <td>999.000000</td>\n",
              "      <td>0.000000</td>\n",
              "      <td>NaN</td>\n",
              "      <td>1.400000</td>\n",
              "      <td>93.994000</td>\n",
              "      <td>-36.400000</td>\n",
              "      <td>4.961000</td>\n",
              "      <td>5228.100000</td>\n",
              "      <td>NaN</td>\n",
              "    </tr>\n",
              "    <tr>\n",
              "      <th>max</th>\n",
              "      <td>98.00000</td>\n",
              "      <td>NaN</td>\n",
              "      <td>NaN</td>\n",
              "      <td>NaN</td>\n",
              "      <td>NaN</td>\n",
              "      <td>NaN</td>\n",
              "      <td>NaN</td>\n",
              "      <td>NaN</td>\n",
              "      <td>NaN</td>\n",
              "      <td>NaN</td>\n",
              "      <td>4918.000000</td>\n",
              "      <td>56.000000</td>\n",
              "      <td>999.000000</td>\n",
              "      <td>7.000000</td>\n",
              "      <td>NaN</td>\n",
              "      <td>1.400000</td>\n",
              "      <td>94.767000</td>\n",
              "      <td>-26.900000</td>\n",
              "      <td>5.045000</td>\n",
              "      <td>5228.100000</td>\n",
              "      <td>NaN</td>\n",
              "    </tr>\n",
              "  </tbody>\n",
              "</table>\n",
              "</div>\n",
              "      <button class=\"colab-df-convert\" onclick=\"convertToInteractive('df-8976a225-05eb-4832-b2ca-fd8ea0d41dce')\"\n",
              "              title=\"Convert this dataframe to an interactive table.\"\n",
              "              style=\"display:none;\">\n",
              "        \n",
              "  <svg xmlns=\"http://www.w3.org/2000/svg\" height=\"24px\"viewBox=\"0 0 24 24\"\n",
              "       width=\"24px\">\n",
              "    <path d=\"M0 0h24v24H0V0z\" fill=\"none\"/>\n",
              "    <path d=\"M18.56 5.44l.94 2.06.94-2.06 2.06-.94-2.06-.94-.94-2.06-.94 2.06-2.06.94zm-11 1L8.5 8.5l.94-2.06 2.06-.94-2.06-.94L8.5 2.5l-.94 2.06-2.06.94zm10 10l.94 2.06.94-2.06 2.06-.94-2.06-.94-.94-2.06-.94 2.06-2.06.94z\"/><path d=\"M17.41 7.96l-1.37-1.37c-.4-.4-.92-.59-1.43-.59-.52 0-1.04.2-1.43.59L10.3 9.45l-7.72 7.72c-.78.78-.78 2.05 0 2.83L4 21.41c.39.39.9.59 1.41.59.51 0 1.02-.2 1.41-.59l7.78-7.78 2.81-2.81c.8-.78.8-2.07 0-2.86zM5.41 20L4 18.59l7.72-7.72 1.47 1.35L5.41 20z\"/>\n",
              "  </svg>\n",
              "      </button>\n",
              "      \n",
              "  <style>\n",
              "    .colab-df-container {\n",
              "      display:flex;\n",
              "      flex-wrap:wrap;\n",
              "      gap: 12px;\n",
              "    }\n",
              "\n",
              "    .colab-df-convert {\n",
              "      background-color: #E8F0FE;\n",
              "      border: none;\n",
              "      border-radius: 50%;\n",
              "      cursor: pointer;\n",
              "      display: none;\n",
              "      fill: #1967D2;\n",
              "      height: 32px;\n",
              "      padding: 0 0 0 0;\n",
              "      width: 32px;\n",
              "    }\n",
              "\n",
              "    .colab-df-convert:hover {\n",
              "      background-color: #E2EBFA;\n",
              "      box-shadow: 0px 1px 2px rgba(60, 64, 67, 0.3), 0px 1px 3px 1px rgba(60, 64, 67, 0.15);\n",
              "      fill: #174EA6;\n",
              "    }\n",
              "\n",
              "    [theme=dark] .colab-df-convert {\n",
              "      background-color: #3B4455;\n",
              "      fill: #D2E3FC;\n",
              "    }\n",
              "\n",
              "    [theme=dark] .colab-df-convert:hover {\n",
              "      background-color: #434B5C;\n",
              "      box-shadow: 0px 1px 3px 1px rgba(0, 0, 0, 0.15);\n",
              "      filter: drop-shadow(0px 1px 2px rgba(0, 0, 0, 0.3));\n",
              "      fill: #FFFFFF;\n",
              "    }\n",
              "  </style>\n",
              "\n",
              "      <script>\n",
              "        const buttonEl =\n",
              "          document.querySelector('#df-8976a225-05eb-4832-b2ca-fd8ea0d41dce button.colab-df-convert');\n",
              "        buttonEl.style.display =\n",
              "          google.colab.kernel.accessAllowed ? 'block' : 'none';\n",
              "\n",
              "        async function convertToInteractive(key) {\n",
              "          const element = document.querySelector('#df-8976a225-05eb-4832-b2ca-fd8ea0d41dce');\n",
              "          const dataTable =\n",
              "            await google.colab.kernel.invokeFunction('convertToInteractive',\n",
              "                                                     [key], {});\n",
              "          if (!dataTable) return;\n",
              "\n",
              "          const docLinkHtml = 'Like what you see? Visit the ' +\n",
              "            '<a target=\"_blank\" href=https://colab.research.google.com/notebooks/data_table.ipynb>data table notebook</a>'\n",
              "            + ' to learn more about interactive tables.';\n",
              "          element.innerHTML = '';\n",
              "          dataTable['output_type'] = 'display_data';\n",
              "          await google.colab.output.renderOutput(dataTable, element);\n",
              "          const docLink = document.createElement('div');\n",
              "          docLink.innerHTML = docLinkHtml;\n",
              "          element.appendChild(docLink);\n",
              "        }\n",
              "      </script>\n",
              "    </div>\n",
              "  </div>\n",
              "  "
            ],
            "text/plain": [
              "                age     job  marital  ...     euribor3m   nr.employed      y\n",
              "count   41188.00000   41188    41188  ...  41188.000000  41188.000000  41188\n",
              "unique          NaN      12        4  ...           NaN           NaN      2\n",
              "top             NaN  admin.  married  ...           NaN           NaN     no\n",
              "freq            NaN   10422    24928  ...           NaN           NaN  36548\n",
              "mean       40.02406     NaN      NaN  ...      3.621291   5167.035911    NaN\n",
              "std        10.42125     NaN      NaN  ...      1.734447     72.251528    NaN\n",
              "min        17.00000     NaN      NaN  ...      0.634000   4963.600000    NaN\n",
              "25%        32.00000     NaN      NaN  ...      1.344000   5099.100000    NaN\n",
              "50%        38.00000     NaN      NaN  ...      4.857000   5191.000000    NaN\n",
              "75%        47.00000     NaN      NaN  ...      4.961000   5228.100000    NaN\n",
              "max        98.00000     NaN      NaN  ...      5.045000   5228.100000    NaN\n",
              "\n",
              "[11 rows x 21 columns]"
            ]
          },
          "metadata": {},
          "execution_count": 13
        }
      ]
    },
    {
      "cell_type": "code",
      "source": [
        "data.info()"
      ],
      "metadata": {
        "colab": {
          "base_uri": "https://localhost:8080/"
        },
        "id": "mjH5zT8MFjGw",
        "outputId": "51f5648f-3129-4c68-b671-30265946c55e"
      },
      "execution_count": 14,
      "outputs": [
        {
          "output_type": "stream",
          "name": "stdout",
          "text": [
            "<class 'pandas.core.frame.DataFrame'>\n",
            "RangeIndex: 41188 entries, 0 to 41187\n",
            "Data columns (total 21 columns):\n",
            " #   Column          Non-Null Count  Dtype  \n",
            "---  ------          --------------  -----  \n",
            " 0   age             41188 non-null  int64  \n",
            " 1   job             41188 non-null  object \n",
            " 2   marital         41188 non-null  object \n",
            " 3   education       41188 non-null  object \n",
            " 4   default         41188 non-null  object \n",
            " 5   housing         41188 non-null  object \n",
            " 6   loan            41188 non-null  object \n",
            " 7   contact         41188 non-null  object \n",
            " 8   month           41188 non-null  object \n",
            " 9   day_of_week     41188 non-null  object \n",
            " 10  duration        41188 non-null  int64  \n",
            " 11  campaign        41188 non-null  int64  \n",
            " 12  pdays           41188 non-null  int64  \n",
            " 13  previous        41188 non-null  int64  \n",
            " 14  poutcome        41188 non-null  object \n",
            " 15  emp.var.rate    41188 non-null  float64\n",
            " 16  cons.price.idx  41188 non-null  float64\n",
            " 17  cons.conf.idx   41188 non-null  float64\n",
            " 18  euribor3m       41188 non-null  float64\n",
            " 19  nr.employed     41188 non-null  float64\n",
            " 20  y               41188 non-null  object \n",
            "dtypes: float64(5), int64(5), object(11)\n",
            "memory usage: 6.6+ MB\n"
          ]
        }
      ]
    },
    {
      "cell_type": "code",
      "source": [
        "data['y'].value_counts(normalize=True)"
      ],
      "metadata": {
        "colab": {
          "base_uri": "https://localhost:8080/"
        },
        "id": "wJPt8QY0FlJr",
        "outputId": "bd4e630c-225b-42b3-f4ef-69246d62e790"
      },
      "execution_count": 15,
      "outputs": [
        {
          "output_type": "execute_result",
          "data": {
            "text/plain": [
              "no     0.887346\n",
              "yes    0.112654\n",
              "Name: y, dtype: float64"
            ]
          },
          "metadata": {},
          "execution_count": 15
        }
      ]
    },
    {
      "cell_type": "code",
      "source": [
        "categorical = ['job', 'marital', 'education', 'default', 'housing', 'loan', 'contact', 'month','day_of_week', 'poutcome']\n",
        "numerical = [x for x in data.columns.to_list() if x not in categorical]\n",
        "numerical.remove('y')"
      ],
      "metadata": {
        "id": "5Km-UdaDGJ7q"
      },
      "execution_count": 16,
      "outputs": []
    },
    {
      "cell_type": "code",
      "source": [
        "print('Categorical data:', categorical)\n",
        "print('Numerical data:', numerical)"
      ],
      "metadata": {
        "colab": {
          "base_uri": "https://localhost:8080/"
        },
        "id": "yBay-PgwGMQb",
        "outputId": "fb5b15d8-88a0-41fd-dab6-02c21a7d85df"
      },
      "execution_count": 17,
      "outputs": [
        {
          "output_type": "stream",
          "name": "stdout",
          "text": [
            "Categorical data: ['job', 'marital', 'education', 'default', 'housing', 'loan', 'contact', 'month', 'day_of_week', 'poutcome']\n",
            "Numerical data: ['age', 'duration', 'campaign', 'pdays', 'previous', 'emp.var.rate', 'cons.price.idx', 'cons.conf.idx', 'euribor3m', 'nr.employed']\n"
          ]
        }
      ]
    },
    {
      "cell_type": "markdown",
      "source": [
        "Import thư viện ML"
      ],
      "metadata": {
        "id": "9R9DGFS85Thx"
      }
    },
    {
      "cell_type": "code",
      "source": [
        "import matplotlib.pyplot as plt\n",
        "import time\n",
        "import numpy as np\n",
        "import pandas as pd\n",
        "import seaborn as sns\n",
        "import missingno #find missing data\n",
        "from sklearn.model_selection import train_test_split\n",
        "from sklearn.feature_selection import RFE, RFECV\n",
        "from sklearn.svm import SVR\n",
        "from sklearn.decomposition import PCA\n",
        "from sklearn.neighbors import KNeighborsClassifier\n",
        "from sklearn.calibration import CalibratedClassifierCV\n",
        "from sklearn.metrics import roc_auc_score\n",
        "from sklearn.preprocessing import StandardScaler\n",
        "from sklearn import datasets, model_selection, tree, preprocessing, metrics, linear_model\n",
        "from sklearn.linear_model import LogisticRegression\n",
        "from sklearn.ensemble import RandomForestClassifier\n",
        "from sklearn.manifold import TSNE\n",
        "from sklearn.model_selection import RandomizedSearchCV\n",
        "from sklearn.linear_model import SGDClassifier\n",
        "from sklearn.naive_bayes import GaussianNB\n",
        "from sklearn.tree import DecisionTreeClassifier\n",
        "from sklearn.ensemble import GradientBoostingClassifier\n",
        "from sklearn.svm import LinearSVC\n",
        "from sklearn.ensemble import BaggingClassifier\n",
        "from sklearn.ensemble import AdaBoostClassifier \n",
        "from sklearn.model_selection import GridSearchCV\n",
        "from sklearn import svm\n",
        "from sklearn.ensemble import VotingClassifier\n",
        "from scipy.stats import randint as sp_randint\n",
        "import datetime\n",
        "import xgboost as xgb\n",
        "from xgboost import XGBClassifier\n",
        "\n",
        "%matplotlib inline"
      ],
      "metadata": {
        "id": "eNtlNNpJHCXk"
      },
      "execution_count": 18,
      "outputs": []
    },
    {
      "cell_type": "code",
      "source": [
        "data = data.replace('unknown', np.nan)"
      ],
      "metadata": {
        "id": "htQAvFpvHpUr"
      },
      "execution_count": 19,
      "outputs": []
    },
    {
      "cell_type": "code",
      "source": [
        "data.isna().sum()"
      ],
      "metadata": {
        "colab": {
          "base_uri": "https://localhost:8080/"
        },
        "id": "PWM1PadMIXiz",
        "outputId": "a54fc997-9b28-4302-a50b-13e8ff5ef1a0"
      },
      "execution_count": 20,
      "outputs": [
        {
          "output_type": "execute_result",
          "data": {
            "text/plain": [
              "age                  0\n",
              "job                330\n",
              "marital             80\n",
              "education         1731\n",
              "default           8597\n",
              "housing            990\n",
              "loan               990\n",
              "contact              0\n",
              "month                0\n",
              "day_of_week          0\n",
              "duration             0\n",
              "campaign             0\n",
              "pdays                0\n",
              "previous             0\n",
              "poutcome             0\n",
              "emp.var.rate         0\n",
              "cons.price.idx       0\n",
              "cons.conf.idx        0\n",
              "euribor3m            0\n",
              "nr.employed          0\n",
              "y                    0\n",
              "dtype: int64"
            ]
          },
          "metadata": {},
          "execution_count": 20
        }
      ]
    },
    {
      "cell_type": "markdown",
      "source": [
        "Điền dữ liệu trống"
      ],
      "metadata": {
        "id": "K-rLE6eT5aln"
      }
    },
    {
      "cell_type": "code",
      "source": [
        "data['job'] = data['job'].fillna(data['job'].mode()[0])\n",
        "data['marital'] = data['marital'].fillna(data['marital'].mode()[0])\n",
        "data['education'] = data['education'].fillna(data['education'].mode()[0])\n",
        "data['default'] = data['default'].fillna(data['default'].mode()[0])\n",
        "\n",
        "data['housing'] = data['housing'].fillna(data['housing'].mode()[0])\n",
        "\n",
        "\n"
      ],
      "metadata": {
        "id": "oxzQsWzoJjRU"
      },
      "execution_count": 21,
      "outputs": []
    },
    {
      "cell_type": "code",
      "source": [
        "numerical_variables = ['age','campaign', 'pdays', 'previous', 'emp.var.rate', 'cons.price.idx','cons.conf.idx','euribor3m',\n",
        "                      'nr.employed']\n",
        "data[numerical_variables].describe()"
      ],
      "metadata": {
        "colab": {
          "base_uri": "https://localhost:8080/",
          "height": 364
        },
        "id": "_UI7KUMPKcoS",
        "outputId": "d80815d9-9935-428c-c32f-b4717d6e831e"
      },
      "execution_count": 22,
      "outputs": [
        {
          "output_type": "execute_result",
          "data": {
            "text/html": [
              "\n",
              "  <div id=\"df-82e072dd-1545-4bed-bc9b-bba802dea078\">\n",
              "    <div class=\"colab-df-container\">\n",
              "      <div>\n",
              "<style scoped>\n",
              "    .dataframe tbody tr th:only-of-type {\n",
              "        vertical-align: middle;\n",
              "    }\n",
              "\n",
              "    .dataframe tbody tr th {\n",
              "        vertical-align: top;\n",
              "    }\n",
              "\n",
              "    .dataframe thead th {\n",
              "        text-align: right;\n",
              "    }\n",
              "</style>\n",
              "<table border=\"1\" class=\"dataframe\">\n",
              "  <thead>\n",
              "    <tr style=\"text-align: right;\">\n",
              "      <th></th>\n",
              "      <th>age</th>\n",
              "      <th>campaign</th>\n",
              "      <th>pdays</th>\n",
              "      <th>previous</th>\n",
              "      <th>emp.var.rate</th>\n",
              "      <th>cons.price.idx</th>\n",
              "      <th>cons.conf.idx</th>\n",
              "      <th>euribor3m</th>\n",
              "      <th>nr.employed</th>\n",
              "    </tr>\n",
              "  </thead>\n",
              "  <tbody>\n",
              "    <tr>\n",
              "      <th>count</th>\n",
              "      <td>41188.00000</td>\n",
              "      <td>41188.000000</td>\n",
              "      <td>41188.000000</td>\n",
              "      <td>41188.000000</td>\n",
              "      <td>41188.000000</td>\n",
              "      <td>41188.000000</td>\n",
              "      <td>41188.000000</td>\n",
              "      <td>41188.000000</td>\n",
              "      <td>41188.000000</td>\n",
              "    </tr>\n",
              "    <tr>\n",
              "      <th>mean</th>\n",
              "      <td>40.02406</td>\n",
              "      <td>2.567593</td>\n",
              "      <td>962.475454</td>\n",
              "      <td>0.172963</td>\n",
              "      <td>0.081886</td>\n",
              "      <td>93.575664</td>\n",
              "      <td>-40.502600</td>\n",
              "      <td>3.621291</td>\n",
              "      <td>5167.035911</td>\n",
              "    </tr>\n",
              "    <tr>\n",
              "      <th>std</th>\n",
              "      <td>10.42125</td>\n",
              "      <td>2.770014</td>\n",
              "      <td>186.910907</td>\n",
              "      <td>0.494901</td>\n",
              "      <td>1.570960</td>\n",
              "      <td>0.578840</td>\n",
              "      <td>4.628198</td>\n",
              "      <td>1.734447</td>\n",
              "      <td>72.251528</td>\n",
              "    </tr>\n",
              "    <tr>\n",
              "      <th>min</th>\n",
              "      <td>17.00000</td>\n",
              "      <td>1.000000</td>\n",
              "      <td>0.000000</td>\n",
              "      <td>0.000000</td>\n",
              "      <td>-3.400000</td>\n",
              "      <td>92.201000</td>\n",
              "      <td>-50.800000</td>\n",
              "      <td>0.634000</td>\n",
              "      <td>4963.600000</td>\n",
              "    </tr>\n",
              "    <tr>\n",
              "      <th>25%</th>\n",
              "      <td>32.00000</td>\n",
              "      <td>1.000000</td>\n",
              "      <td>999.000000</td>\n",
              "      <td>0.000000</td>\n",
              "      <td>-1.800000</td>\n",
              "      <td>93.075000</td>\n",
              "      <td>-42.700000</td>\n",
              "      <td>1.344000</td>\n",
              "      <td>5099.100000</td>\n",
              "    </tr>\n",
              "    <tr>\n",
              "      <th>50%</th>\n",
              "      <td>38.00000</td>\n",
              "      <td>2.000000</td>\n",
              "      <td>999.000000</td>\n",
              "      <td>0.000000</td>\n",
              "      <td>1.100000</td>\n",
              "      <td>93.749000</td>\n",
              "      <td>-41.800000</td>\n",
              "      <td>4.857000</td>\n",
              "      <td>5191.000000</td>\n",
              "    </tr>\n",
              "    <tr>\n",
              "      <th>75%</th>\n",
              "      <td>47.00000</td>\n",
              "      <td>3.000000</td>\n",
              "      <td>999.000000</td>\n",
              "      <td>0.000000</td>\n",
              "      <td>1.400000</td>\n",
              "      <td>93.994000</td>\n",
              "      <td>-36.400000</td>\n",
              "      <td>4.961000</td>\n",
              "      <td>5228.100000</td>\n",
              "    </tr>\n",
              "    <tr>\n",
              "      <th>max</th>\n",
              "      <td>98.00000</td>\n",
              "      <td>56.000000</td>\n",
              "      <td>999.000000</td>\n",
              "      <td>7.000000</td>\n",
              "      <td>1.400000</td>\n",
              "      <td>94.767000</td>\n",
              "      <td>-26.900000</td>\n",
              "      <td>5.045000</td>\n",
              "      <td>5228.100000</td>\n",
              "    </tr>\n",
              "  </tbody>\n",
              "</table>\n",
              "</div>\n",
              "      <button class=\"colab-df-convert\" onclick=\"convertToInteractive('df-82e072dd-1545-4bed-bc9b-bba802dea078')\"\n",
              "              title=\"Convert this dataframe to an interactive table.\"\n",
              "              style=\"display:none;\">\n",
              "        \n",
              "  <svg xmlns=\"http://www.w3.org/2000/svg\" height=\"24px\"viewBox=\"0 0 24 24\"\n",
              "       width=\"24px\">\n",
              "    <path d=\"M0 0h24v24H0V0z\" fill=\"none\"/>\n",
              "    <path d=\"M18.56 5.44l.94 2.06.94-2.06 2.06-.94-2.06-.94-.94-2.06-.94 2.06-2.06.94zm-11 1L8.5 8.5l.94-2.06 2.06-.94-2.06-.94L8.5 2.5l-.94 2.06-2.06.94zm10 10l.94 2.06.94-2.06 2.06-.94-2.06-.94-.94-2.06-.94 2.06-2.06.94z\"/><path d=\"M17.41 7.96l-1.37-1.37c-.4-.4-.92-.59-1.43-.59-.52 0-1.04.2-1.43.59L10.3 9.45l-7.72 7.72c-.78.78-.78 2.05 0 2.83L4 21.41c.39.39.9.59 1.41.59.51 0 1.02-.2 1.41-.59l7.78-7.78 2.81-2.81c.8-.78.8-2.07 0-2.86zM5.41 20L4 18.59l7.72-7.72 1.47 1.35L5.41 20z\"/>\n",
              "  </svg>\n",
              "      </button>\n",
              "      \n",
              "  <style>\n",
              "    .colab-df-container {\n",
              "      display:flex;\n",
              "      flex-wrap:wrap;\n",
              "      gap: 12px;\n",
              "    }\n",
              "\n",
              "    .colab-df-convert {\n",
              "      background-color: #E8F0FE;\n",
              "      border: none;\n",
              "      border-radius: 50%;\n",
              "      cursor: pointer;\n",
              "      display: none;\n",
              "      fill: #1967D2;\n",
              "      height: 32px;\n",
              "      padding: 0 0 0 0;\n",
              "      width: 32px;\n",
              "    }\n",
              "\n",
              "    .colab-df-convert:hover {\n",
              "      background-color: #E2EBFA;\n",
              "      box-shadow: 0px 1px 2px rgba(60, 64, 67, 0.3), 0px 1px 3px 1px rgba(60, 64, 67, 0.15);\n",
              "      fill: #174EA6;\n",
              "    }\n",
              "\n",
              "    [theme=dark] .colab-df-convert {\n",
              "      background-color: #3B4455;\n",
              "      fill: #D2E3FC;\n",
              "    }\n",
              "\n",
              "    [theme=dark] .colab-df-convert:hover {\n",
              "      background-color: #434B5C;\n",
              "      box-shadow: 0px 1px 3px 1px rgba(0, 0, 0, 0.15);\n",
              "      filter: drop-shadow(0px 1px 2px rgba(0, 0, 0, 0.3));\n",
              "      fill: #FFFFFF;\n",
              "    }\n",
              "  </style>\n",
              "\n",
              "      <script>\n",
              "        const buttonEl =\n",
              "          document.querySelector('#df-82e072dd-1545-4bed-bc9b-bba802dea078 button.colab-df-convert');\n",
              "        buttonEl.style.display =\n",
              "          google.colab.kernel.accessAllowed ? 'block' : 'none';\n",
              "\n",
              "        async function convertToInteractive(key) {\n",
              "          const element = document.querySelector('#df-82e072dd-1545-4bed-bc9b-bba802dea078');\n",
              "          const dataTable =\n",
              "            await google.colab.kernel.invokeFunction('convertToInteractive',\n",
              "                                                     [key], {});\n",
              "          if (!dataTable) return;\n",
              "\n",
              "          const docLinkHtml = 'Like what you see? Visit the ' +\n",
              "            '<a target=\"_blank\" href=https://colab.research.google.com/notebooks/data_table.ipynb>data table notebook</a>'\n",
              "            + ' to learn more about interactive tables.';\n",
              "          element.innerHTML = '';\n",
              "          dataTable['output_type'] = 'display_data';\n",
              "          await google.colab.output.renderOutput(dataTable, element);\n",
              "          const docLink = document.createElement('div');\n",
              "          docLink.innerHTML = docLinkHtml;\n",
              "          element.appendChild(docLink);\n",
              "        }\n",
              "      </script>\n",
              "    </div>\n",
              "  </div>\n",
              "  "
            ],
            "text/plain": [
              "               age      campaign  ...     euribor3m   nr.employed\n",
              "count  41188.00000  41188.000000  ...  41188.000000  41188.000000\n",
              "mean      40.02406      2.567593  ...      3.621291   5167.035911\n",
              "std       10.42125      2.770014  ...      1.734447     72.251528\n",
              "min       17.00000      1.000000  ...      0.634000   4963.600000\n",
              "25%       32.00000      1.000000  ...      1.344000   5099.100000\n",
              "50%       38.00000      2.000000  ...      4.857000   5191.000000\n",
              "75%       47.00000      3.000000  ...      4.961000   5228.100000\n",
              "max       98.00000     56.000000  ...      5.045000   5228.100000\n",
              "\n",
              "[8 rows x 9 columns]"
            ]
          },
          "metadata": {},
          "execution_count": 22
        }
      ]
    },
    {
      "cell_type": "code",
      "source": [
        "data['y'].replace({\"no\":0, \"yes\":1}, inplace=True)"
      ],
      "metadata": {
        "id": "WWNTlg6NKeGe"
      },
      "execution_count": 23,
      "outputs": []
    },
    {
      "cell_type": "code",
      "source": [
        "Mean_encoded_job = data.groupby(['job'])['y'].mean().to_dict()   \n",
        "data['job'] =  data['job'].map(Mean_encoded_job)  \n",
        "\n",
        "Mean_encoded_marital = data.groupby(['marital'])['y'].mean().to_dict()   \n",
        "data['marital'] =  data['marital'].map(Mean_encoded_marital) \n",
        "\n",
        "Mean_encoded_default = data.groupby(['default'])['y'].mean().to_dict()   \n",
        "data['default'] =  data['default'].map(Mean_encoded_default)\n",
        "\n",
        "Mean_encoded_housing = data.groupby(['housing'])['y'].mean().to_dict()   \n",
        "data['housing'] =  data['housing'].map(Mean_encoded_housing)\n",
        "\n",
        "Mean_encoded_loan = data.groupby(['loan'])['y'].mean().to_dict()   \n",
        "data['loan'] =  data['loan'].map(Mean_encoded_loan)\n",
        "\n",
        "Mean_encoded_contact = data.groupby(['contact'])['y'].mean().to_dict()   \n",
        "data['contact'] =  data['contact'].map(Mean_encoded_contact)\n",
        "\n",
        "Mean_encoded_month = data.groupby(['month'])['y'].mean().to_dict()   \n",
        "data['month'] =  data['month'].map(Mean_encoded_month)\n",
        "\n",
        "Mean_encoded_poutcome = data.groupby(['poutcome'])['y'].mean().to_dict()   \n",
        "data['poutcome'] =  data['poutcome'].map(Mean_encoded_poutcome)\n",
        "\n",
        "Mean_encoded_day_of_week = data.groupby(['day_of_week'])['y'].mean().to_dict()   \n",
        "data['day_of_week'] =  data['day_of_week'].map(Mean_encoded_day_of_week)\n",
        "\n",
        "Mean_encoded_education = data.groupby(['education'])['y'].mean().to_dict()   \n",
        "data['education'] =  data['education'].map(Mean_encoded_education)"
      ],
      "metadata": {
        "id": "FNkpGmmGKlEz"
      },
      "execution_count": 33,
      "outputs": []
    },
    {
      "cell_type": "code",
      "source": [
        "data_drop = pd.DataFrame()\n",
        "data_drop = data"
      ],
      "metadata": {
        "id": "9uuOrndcKpZi"
      },
      "execution_count": 34,
      "outputs": []
    },
    {
      "cell_type": "code",
      "source": [
        "data_drop.info()"
      ],
      "metadata": {
        "colab": {
          "base_uri": "https://localhost:8080/"
        },
        "id": "NL_DWDfnK7OW",
        "outputId": "de838cf4-cf03-420d-f1c8-b8ebde76fede"
      },
      "execution_count": 35,
      "outputs": [
        {
          "output_type": "stream",
          "name": "stdout",
          "text": [
            "<class 'pandas.core.frame.DataFrame'>\n",
            "RangeIndex: 41188 entries, 0 to 41187\n",
            "Data columns (total 21 columns):\n",
            " #   Column          Non-Null Count  Dtype  \n",
            "---  ------          --------------  -----  \n",
            " 0   age             41188 non-null  int64  \n",
            " 1   job             41188 non-null  float64\n",
            " 2   marital         41188 non-null  float64\n",
            " 3   education       41188 non-null  float64\n",
            " 4   default         41188 non-null  float64\n",
            " 5   housing         41188 non-null  float64\n",
            " 6   loan            40198 non-null  float64\n",
            " 7   contact         41188 non-null  float64\n",
            " 8   month           41188 non-null  float64\n",
            " 9   day_of_week     41188 non-null  float64\n",
            " 10  duration        41188 non-null  int64  \n",
            " 11  campaign        41188 non-null  int64  \n",
            " 12  pdays           41188 non-null  int64  \n",
            " 13  previous        41188 non-null  int64  \n",
            " 14  poutcome        41188 non-null  float64\n",
            " 15  emp.var.rate    41188 non-null  float64\n",
            " 16  cons.price.idx  41188 non-null  float64\n",
            " 17  cons.conf.idx   41188 non-null  float64\n",
            " 18  euribor3m       41188 non-null  float64\n",
            " 19  nr.employed     41188 non-null  float64\n",
            " 20  y               41188 non-null  int64  \n",
            "dtypes: float64(15), int64(6)\n",
            "memory usage: 6.6 MB\n"
          ]
        }
      ]
    },
    {
      "cell_type": "code",
      "source": [
        "data_drop.fillna(data_drop.mean(), inplace = True)"
      ],
      "metadata": {
        "id": "slswYyXmLEfF"
      },
      "execution_count": 36,
      "outputs": []
    },
    {
      "cell_type": "code",
      "source": [
        "data_drop.head()"
      ],
      "metadata": {
        "colab": {
          "base_uri": "https://localhost:8080/",
          "height": 270
        },
        "id": "jkV8oEqGLG5T",
        "outputId": "40a0ee9d-7f93-4bdb-ff2e-e2aa16b1e56c"
      },
      "execution_count": 37,
      "outputs": [
        {
          "output_type": "execute_result",
          "data": {
            "text/html": [
              "\n",
              "  <div id=\"df-55abd169-3795-4938-b373-dca81b22036c\">\n",
              "    <div class=\"colab-df-container\">\n",
              "      <div>\n",
              "<style scoped>\n",
              "    .dataframe tbody tr th:only-of-type {\n",
              "        vertical-align: middle;\n",
              "    }\n",
              "\n",
              "    .dataframe tbody tr th {\n",
              "        vertical-align: top;\n",
              "    }\n",
              "\n",
              "    .dataframe thead th {\n",
              "        text-align: right;\n",
              "    }\n",
              "</style>\n",
              "<table border=\"1\" class=\"dataframe\">\n",
              "  <thead>\n",
              "    <tr style=\"text-align: right;\">\n",
              "      <th></th>\n",
              "      <th>age</th>\n",
              "      <th>job</th>\n",
              "      <th>marital</th>\n",
              "      <th>education</th>\n",
              "      <th>default</th>\n",
              "      <th>housing</th>\n",
              "      <th>loan</th>\n",
              "      <th>contact</th>\n",
              "      <th>month</th>\n",
              "      <th>day_of_week</th>\n",
              "      <th>duration</th>\n",
              "      <th>campaign</th>\n",
              "      <th>pdays</th>\n",
              "      <th>previous</th>\n",
              "      <th>poutcome</th>\n",
              "      <th>emp.var.rate</th>\n",
              "      <th>cons.price.idx</th>\n",
              "      <th>cons.conf.idx</th>\n",
              "      <th>euribor3m</th>\n",
              "      <th>nr.employed</th>\n",
              "      <th>y</th>\n",
              "    </tr>\n",
              "  </thead>\n",
              "  <tbody>\n",
              "    <tr>\n",
              "      <th>0</th>\n",
              "      <td>56</td>\n",
              "      <td>0.100000</td>\n",
              "      <td>0.101727</td>\n",
              "      <td>0.102490</td>\n",
              "      <td>0.112662</td>\n",
              "      <td>0.108796</td>\n",
              "      <td>0.113402</td>\n",
              "      <td>0.052313</td>\n",
              "      <td>0.064347</td>\n",
              "      <td>0.099483</td>\n",
              "      <td>261</td>\n",
              "      <td>1</td>\n",
              "      <td>999</td>\n",
              "      <td>0</td>\n",
              "      <td>0.088322</td>\n",
              "      <td>1.1</td>\n",
              "      <td>93.994</td>\n",
              "      <td>-36.4</td>\n",
              "      <td>4.857</td>\n",
              "      <td>5191.0</td>\n",
              "      <td>0</td>\n",
              "    </tr>\n",
              "    <tr>\n",
              "      <th>1</th>\n",
              "      <td>57</td>\n",
              "      <td>0.081381</td>\n",
              "      <td>0.101727</td>\n",
              "      <td>0.108355</td>\n",
              "      <td>0.112662</td>\n",
              "      <td>0.108796</td>\n",
              "      <td>0.113402</td>\n",
              "      <td>0.052313</td>\n",
              "      <td>0.064347</td>\n",
              "      <td>0.099483</td>\n",
              "      <td>149</td>\n",
              "      <td>1</td>\n",
              "      <td>999</td>\n",
              "      <td>0</td>\n",
              "      <td>0.088322</td>\n",
              "      <td>1.1</td>\n",
              "      <td>93.994</td>\n",
              "      <td>-36.4</td>\n",
              "      <td>4.857</td>\n",
              "      <td>5191.0</td>\n",
              "      <td>0</td>\n",
              "    </tr>\n",
              "    <tr>\n",
              "      <th>2</th>\n",
              "      <td>37</td>\n",
              "      <td>0.081381</td>\n",
              "      <td>0.101727</td>\n",
              "      <td>0.108355</td>\n",
              "      <td>0.112662</td>\n",
              "      <td>0.115838</td>\n",
              "      <td>0.113402</td>\n",
              "      <td>0.052313</td>\n",
              "      <td>0.064347</td>\n",
              "      <td>0.099483</td>\n",
              "      <td>226</td>\n",
              "      <td>1</td>\n",
              "      <td>999</td>\n",
              "      <td>0</td>\n",
              "      <td>0.088322</td>\n",
              "      <td>1.1</td>\n",
              "      <td>93.994</td>\n",
              "      <td>-36.4</td>\n",
              "      <td>4.857</td>\n",
              "      <td>5191.0</td>\n",
              "      <td>0</td>\n",
              "    </tr>\n",
              "    <tr>\n",
              "      <th>3</th>\n",
              "      <td>40</td>\n",
              "      <td>0.129185</td>\n",
              "      <td>0.101727</td>\n",
              "      <td>0.082024</td>\n",
              "      <td>0.112662</td>\n",
              "      <td>0.108796</td>\n",
              "      <td>0.113402</td>\n",
              "      <td>0.052313</td>\n",
              "      <td>0.064347</td>\n",
              "      <td>0.099483</td>\n",
              "      <td>151</td>\n",
              "      <td>1</td>\n",
              "      <td>999</td>\n",
              "      <td>0</td>\n",
              "      <td>0.088322</td>\n",
              "      <td>1.1</td>\n",
              "      <td>93.994</td>\n",
              "      <td>-36.4</td>\n",
              "      <td>4.857</td>\n",
              "      <td>5191.0</td>\n",
              "      <td>0</td>\n",
              "    </tr>\n",
              "    <tr>\n",
              "      <th>4</th>\n",
              "      <td>56</td>\n",
              "      <td>0.081381</td>\n",
              "      <td>0.101727</td>\n",
              "      <td>0.108355</td>\n",
              "      <td>0.112662</td>\n",
              "      <td>0.108796</td>\n",
              "      <td>0.109315</td>\n",
              "      <td>0.052313</td>\n",
              "      <td>0.064347</td>\n",
              "      <td>0.099483</td>\n",
              "      <td>307</td>\n",
              "      <td>1</td>\n",
              "      <td>999</td>\n",
              "      <td>0</td>\n",
              "      <td>0.088322</td>\n",
              "      <td>1.1</td>\n",
              "      <td>93.994</td>\n",
              "      <td>-36.4</td>\n",
              "      <td>4.857</td>\n",
              "      <td>5191.0</td>\n",
              "      <td>0</td>\n",
              "    </tr>\n",
              "  </tbody>\n",
              "</table>\n",
              "</div>\n",
              "      <button class=\"colab-df-convert\" onclick=\"convertToInteractive('df-55abd169-3795-4938-b373-dca81b22036c')\"\n",
              "              title=\"Convert this dataframe to an interactive table.\"\n",
              "              style=\"display:none;\">\n",
              "        \n",
              "  <svg xmlns=\"http://www.w3.org/2000/svg\" height=\"24px\"viewBox=\"0 0 24 24\"\n",
              "       width=\"24px\">\n",
              "    <path d=\"M0 0h24v24H0V0z\" fill=\"none\"/>\n",
              "    <path d=\"M18.56 5.44l.94 2.06.94-2.06 2.06-.94-2.06-.94-.94-2.06-.94 2.06-2.06.94zm-11 1L8.5 8.5l.94-2.06 2.06-.94-2.06-.94L8.5 2.5l-.94 2.06-2.06.94zm10 10l.94 2.06.94-2.06 2.06-.94-2.06-.94-.94-2.06-.94 2.06-2.06.94z\"/><path d=\"M17.41 7.96l-1.37-1.37c-.4-.4-.92-.59-1.43-.59-.52 0-1.04.2-1.43.59L10.3 9.45l-7.72 7.72c-.78.78-.78 2.05 0 2.83L4 21.41c.39.39.9.59 1.41.59.51 0 1.02-.2 1.41-.59l7.78-7.78 2.81-2.81c.8-.78.8-2.07 0-2.86zM5.41 20L4 18.59l7.72-7.72 1.47 1.35L5.41 20z\"/>\n",
              "  </svg>\n",
              "      </button>\n",
              "      \n",
              "  <style>\n",
              "    .colab-df-container {\n",
              "      display:flex;\n",
              "      flex-wrap:wrap;\n",
              "      gap: 12px;\n",
              "    }\n",
              "\n",
              "    .colab-df-convert {\n",
              "      background-color: #E8F0FE;\n",
              "      border: none;\n",
              "      border-radius: 50%;\n",
              "      cursor: pointer;\n",
              "      display: none;\n",
              "      fill: #1967D2;\n",
              "      height: 32px;\n",
              "      padding: 0 0 0 0;\n",
              "      width: 32px;\n",
              "    }\n",
              "\n",
              "    .colab-df-convert:hover {\n",
              "      background-color: #E2EBFA;\n",
              "      box-shadow: 0px 1px 2px rgba(60, 64, 67, 0.3), 0px 1px 3px 1px rgba(60, 64, 67, 0.15);\n",
              "      fill: #174EA6;\n",
              "    }\n",
              "\n",
              "    [theme=dark] .colab-df-convert {\n",
              "      background-color: #3B4455;\n",
              "      fill: #D2E3FC;\n",
              "    }\n",
              "\n",
              "    [theme=dark] .colab-df-convert:hover {\n",
              "      background-color: #434B5C;\n",
              "      box-shadow: 0px 1px 3px 1px rgba(0, 0, 0, 0.15);\n",
              "      filter: drop-shadow(0px 1px 2px rgba(0, 0, 0, 0.3));\n",
              "      fill: #FFFFFF;\n",
              "    }\n",
              "  </style>\n",
              "\n",
              "      <script>\n",
              "        const buttonEl =\n",
              "          document.querySelector('#df-55abd169-3795-4938-b373-dca81b22036c button.colab-df-convert');\n",
              "        buttonEl.style.display =\n",
              "          google.colab.kernel.accessAllowed ? 'block' : 'none';\n",
              "\n",
              "        async function convertToInteractive(key) {\n",
              "          const element = document.querySelector('#df-55abd169-3795-4938-b373-dca81b22036c');\n",
              "          const dataTable =\n",
              "            await google.colab.kernel.invokeFunction('convertToInteractive',\n",
              "                                                     [key], {});\n",
              "          if (!dataTable) return;\n",
              "\n",
              "          const docLinkHtml = 'Like what you see? Visit the ' +\n",
              "            '<a target=\"_blank\" href=https://colab.research.google.com/notebooks/data_table.ipynb>data table notebook</a>'\n",
              "            + ' to learn more about interactive tables.';\n",
              "          element.innerHTML = '';\n",
              "          dataTable['output_type'] = 'display_data';\n",
              "          await google.colab.output.renderOutput(dataTable, element);\n",
              "          const docLink = document.createElement('div');\n",
              "          docLink.innerHTML = docLinkHtml;\n",
              "          element.appendChild(docLink);\n",
              "        }\n",
              "      </script>\n",
              "    </div>\n",
              "  </div>\n",
              "  "
            ],
            "text/plain": [
              "   age       job   marital  education  ...  cons.conf.idx  euribor3m  nr.employed  y\n",
              "0   56  0.100000  0.101727   0.102490  ...          -36.4      4.857       5191.0  0\n",
              "1   57  0.081381  0.101727   0.108355  ...          -36.4      4.857       5191.0  0\n",
              "2   37  0.081381  0.101727   0.108355  ...          -36.4      4.857       5191.0  0\n",
              "3   40  0.129185  0.101727   0.082024  ...          -36.4      4.857       5191.0  0\n",
              "4   56  0.081381  0.101727   0.108355  ...          -36.4      4.857       5191.0  0\n",
              "\n",
              "[5 rows x 21 columns]"
            ]
          },
          "metadata": {},
          "execution_count": 37
        }
      ]
    },
    {
      "cell_type": "markdown",
      "source": [
        "**ANN_1**"
      ],
      "metadata": {
        "id": "KrhMSBoGTe1Y"
      }
    },
    {
      "cell_type": "code",
      "source": [
        "model = Sequential()\n",
        "model.add(Dense(12, input_dim=20, activation='relu'))\n",
        "model.add(Dense(8, activation='relu'))\n",
        "model.add(Dense(1, activation='sigmoid'))"
      ],
      "metadata": {
        "id": "aX4C-I1qLP49"
      },
      "execution_count": 98,
      "outputs": []
    },
    {
      "cell_type": "code",
      "source": [
        "std_scale = preprocessing.StandardScaler().fit(data_drop.drop('y', axis=1))\n",
        "X = std_scale.transform(data_drop.drop('y', axis=1))\n",
        "y = data_drop['y']"
      ],
      "metadata": {
        "id": "4z62Vxy0nmV5"
      },
      "execution_count": 38,
      "outputs": []
    },
    {
      "cell_type": "code",
      "source": [
        "X_train1, X_test, y_train1, y_test = train_test_split(X, y, test_size=0.2, random_state=1)\n",
        "\n",
        "from numpy import ravel\n",
        "from imblearn.over_sampling import SMOTE\n",
        "from sklearn.model_selection import train_test_split\n",
        "sm = SMOTE(random_state=2)\n",
        "X_train, y_train = sm.fit_resample(X_train1, y_train1.values.ravel())\n",
        "\n",
        "print(\"X Train:\", X_train.shape)\n",
        "print(\"X Test:\", X_test.shape)\n",
        "print(\"Y Train:\", y_train.shape)\n",
        "print(\"Y Test:\", y_test.shape)"
      ],
      "metadata": {
        "colab": {
          "base_uri": "https://localhost:8080/"
        },
        "id": "s39KBIGyneEU",
        "outputId": "72b9e326-90b6-4d8b-d001-46ed20a01c51"
      },
      "execution_count": 39,
      "outputs": [
        {
          "output_type": "stream",
          "name": "stdout",
          "text": [
            "X Train: (58508, 20)\n",
            "X Test: (8238, 20)\n",
            "Y Train: (58508,)\n",
            "Y Test: (8238,)\n"
          ]
        }
      ]
    },
    {
      "cell_type": "code",
      "source": [
        "model.compile(loss='binary_crossentropy', optimizer='adam', metrics=['accuracy'])"
      ],
      "metadata": {
        "id": "GTCDiBIynpf_"
      },
      "execution_count": 101,
      "outputs": []
    },
    {
      "cell_type": "code",
      "source": [
        "history=model.fit(X_train, y_train, epochs=20, batch_size=16, shuffle=True)"
      ],
      "metadata": {
        "colab": {
          "base_uri": "https://localhost:8080/"
        },
        "id": "4qdO8s_3nQxw",
        "outputId": "25b07af8-e2d4-49e1-c145-128ee78319cb"
      },
      "execution_count": 102,
      "outputs": [
        {
          "output_type": "stream",
          "name": "stdout",
          "text": [
            "Epoch 1/20\n",
            "3657/3657 [==============================] - 20s 4ms/step - loss: 0.3093 - accuracy: 0.8758\n",
            "Epoch 2/20\n",
            "3657/3657 [==============================] - 13s 4ms/step - loss: 0.2661 - accuracy: 0.8946\n",
            "Epoch 3/20\n",
            "3657/3657 [==============================] - 13s 4ms/step - loss: 0.2579 - accuracy: 0.8978\n",
            "Epoch 4/20\n",
            "3657/3657 [==============================] - 13s 4ms/step - loss: 0.2533 - accuracy: 0.9004\n",
            "Epoch 5/20\n",
            "3657/3657 [==============================] - 13s 4ms/step - loss: 0.2502 - accuracy: 0.9019\n",
            "Epoch 6/20\n",
            "3657/3657 [==============================] - 13s 4ms/step - loss: 0.2478 - accuracy: 0.9023\n",
            "Epoch 7/20\n",
            "3657/3657 [==============================] - 15s 4ms/step - loss: 0.2461 - accuracy: 0.9038\n",
            "Epoch 8/20\n",
            "3657/3657 [==============================] - 13s 4ms/step - loss: 0.2444 - accuracy: 0.9038\n",
            "Epoch 9/20\n",
            "3657/3657 [==============================] - 13s 4ms/step - loss: 0.2430 - accuracy: 0.9053\n",
            "Epoch 10/20\n",
            "3657/3657 [==============================] - 13s 4ms/step - loss: 0.2420 - accuracy: 0.9047\n",
            "Epoch 11/20\n",
            "3657/3657 [==============================] - 13s 4ms/step - loss: 0.2412 - accuracy: 0.9049\n",
            "Epoch 12/20\n",
            "3657/3657 [==============================] - 22s 6ms/step - loss: 0.2405 - accuracy: 0.9055\n",
            "Epoch 13/20\n",
            "3657/3657 [==============================] - 18s 5ms/step - loss: 0.2400 - accuracy: 0.9061\n",
            "Epoch 14/20\n",
            "3657/3657 [==============================] - 13s 4ms/step - loss: 0.2393 - accuracy: 0.9066\n",
            "Epoch 15/20\n",
            "3657/3657 [==============================] - 13s 4ms/step - loss: 0.2391 - accuracy: 0.9060\n",
            "Epoch 16/20\n",
            "3657/3657 [==============================] - 13s 4ms/step - loss: 0.2382 - accuracy: 0.9064\n",
            "Epoch 17/20\n",
            "3657/3657 [==============================] - 13s 4ms/step - loss: 0.2379 - accuracy: 0.9071\n",
            "Epoch 18/20\n",
            "3657/3657 [==============================] - 13s 4ms/step - loss: 0.2374 - accuracy: 0.9081\n",
            "Epoch 19/20\n",
            "3657/3657 [==============================] - 13s 4ms/step - loss: 0.2368 - accuracy: 0.9076\n",
            "Epoch 20/20\n",
            "3657/3657 [==============================] - 13s 4ms/step - loss: 0.2369 - accuracy: 0.9078\n"
          ]
        }
      ]
    },
    {
      "cell_type": "code",
      "source": [
        "score = model.evaluate(X_test, y_test, verbose=0)"
      ],
      "metadata": {
        "id": "kyDL9nXd3AUI"
      },
      "execution_count": 103,
      "outputs": []
    },
    {
      "cell_type": "code",
      "source": [
        "print('Test loss:', score[0])\n",
        "print('Test accuracy:', score[1])"
      ],
      "metadata": {
        "colab": {
          "base_uri": "https://localhost:8080/"
        },
        "id": "rB916MyV3C4_",
        "outputId": "4ea05288-c1cd-4d43-c38d-320644f52157"
      },
      "execution_count": 104,
      "outputs": [
        {
          "output_type": "stream",
          "name": "stdout",
          "text": [
            "Test loss: 0.2989276647567749\n",
            "Test accuracy: 0.8605244159698486\n"
          ]
        }
      ]
    },
    {
      "cell_type": "code",
      "source": [
        "print(history.history.keys())\n",
        "#  \"Accuracy\"\n",
        "plt.plot(history.history['accuracy'])\n",
        "plt.title('model accuracy')\n",
        "plt.ylabel('accuracy')\n",
        "plt.xlabel('epoch')\n",
        "plt.legend(['train'], loc='upper left')\n",
        "plt.show()\n",
        "# \"Loss\"\n",
        "plt.plot(history.history['loss'])\n",
        "plt.title('model loss')\n",
        "plt.ylabel('loss')\n",
        "plt.xlabel('epoch')\n",
        "plt.legend(['train'], loc='upper left')\n",
        "plt.show()"
      ],
      "metadata": {
        "colab": {
          "base_uri": "https://localhost:8080/",
          "height": 589
        },
        "id": "AYgJjYku0rNz",
        "outputId": "480d911d-e149-49ef-ab86-37737bd5dd0a"
      },
      "execution_count": 105,
      "outputs": [
        {
          "output_type": "stream",
          "name": "stdout",
          "text": [
            "dict_keys(['loss', 'accuracy'])\n"
          ]
        },
        {
          "output_type": "display_data",
          "data": {
            "image/png": "[encoded data removed]",
            "text/plain": [
              "<Figure size 432x288 with 1 Axes>"
            ]
          },
          "metadata": {
            "needs_background": "light"
          }
        },
        {
          "output_type": "display_data",
          "data": {
            "image/png": "[encoded data removed]",
            "text/plain": [
              "<Figure size 432x288 with 1 Axes>"
            ]
          },
          "metadata": {
            "needs_background": "light"
          }
        }
      ]
    },
    {
      "cell_type": "markdown",
      "source": [
        "**ANN_2 Epoch =200, batch size=32**"
      ],
      "metadata": {
        "id": "MRteLp6vRFmB"
      }
    },
    {
      "cell_type": "code",
      "source": [
        "# define the keras model\n",
        "model1 = Sequential()\n",
        "model1.add(Dense(12, input_dim=20, activation='relu'))\n",
        "model1.add(Dense(8, activation='relu'))\n",
        "model1.add(Dense(1, activation='sigmoid'))"
      ],
      "metadata": {
        "id": "wRfiKtHvUshx"
      },
      "execution_count": 107,
      "outputs": []
    },
    {
      "cell_type": "code",
      "source": [
        "model1.compile(loss='binary_crossentropy', optimizer='adam', metrics=['accuracy'])"
      ],
      "metadata": {
        "id": "R2z40zRbU6kf"
      },
      "execution_count": 108,
      "outputs": []
    },
    {
      "cell_type": "code",
      "source": [
        "history1=model1.fit(X_train, y_train, epochs=200, batch_size=32, shuffle=True)"
      ],
      "metadata": {
        "colab": {
          "base_uri": "https://localhost:8080/"
        },
        "id": "wNmK7dziqrqK",
        "outputId": "01866e6a-0862-4547-d79e-20498ea9c471"
      },
      "execution_count": 109,
      "outputs": [
        {
          "output_type": "stream",
          "name": "stdout",
          "text": [
            "Epoch 1/200\n",
            "1829/1829 [==============================] - 13s 6ms/step - loss: 0.3214 - accuracy: 0.8687\n",
            "Epoch 2/200\n",
            "1829/1829 [==============================] - 7s 4ms/step - loss: 0.2741 - accuracy: 0.8916\n",
            "Epoch 3/200\n",
            "1829/1829 [==============================] - 7s 4ms/step - loss: 0.2650 - accuracy: 0.8947\n",
            "Epoch 4/200\n",
            "1829/1829 [==============================] - 7s 4ms/step - loss: 0.2589 - accuracy: 0.8965\n",
            "Epoch 5/200\n",
            "1829/1829 [==============================] - 7s 4ms/step - loss: 0.2546 - accuracy: 0.8985\n",
            "Epoch 6/200\n",
            "1829/1829 [==============================] - 7s 4ms/step - loss: 0.2523 - accuracy: 0.8993\n",
            "Epoch 7/200\n",
            "1829/1829 [==============================] - 7s 4ms/step - loss: 0.2501 - accuracy: 0.9003\n",
            "Epoch 8/200\n",
            "1829/1829 [==============================] - 7s 4ms/step - loss: 0.2489 - accuracy: 0.9012\n",
            "Epoch 9/200\n",
            "1829/1829 [==============================] - 7s 4ms/step - loss: 0.2477 - accuracy: 0.9014\n",
            "Epoch 10/200\n",
            "1829/1829 [==============================] - 7s 4ms/step - loss: 0.2466 - accuracy: 0.9028\n",
            "Epoch 11/200\n",
            "1829/1829 [==============================] - 7s 4ms/step - loss: 0.2454 - accuracy: 0.9038\n",
            "Epoch 12/200\n",
            "1829/1829 [==============================] - 7s 4ms/step - loss: 0.2445 - accuracy: 0.9039\n",
            "Epoch 13/200\n",
            "1829/1829 [==============================] - 7s 4ms/step - loss: 0.2438 - accuracy: 0.9042\n",
            "Epoch 14/200\n",
            "1829/1829 [==============================] - 7s 4ms/step - loss: 0.2434 - accuracy: 0.9044\n",
            "Epoch 15/200\n",
            "1829/1829 [==============================] - 7s 4ms/step - loss: 0.2427 - accuracy: 0.9045\n",
            "Epoch 16/200\n",
            "1829/1829 [==============================] - 7s 4ms/step - loss: 0.2419 - accuracy: 0.9044\n",
            "Epoch 17/200\n",
            "1829/1829 [==============================] - 7s 4ms/step - loss: 0.2413 - accuracy: 0.9055\n",
            "Epoch 18/200\n",
            "1829/1829 [==============================] - 7s 4ms/step - loss: 0.2407 - accuracy: 0.9057\n",
            "Epoch 19/200\n",
            "1829/1829 [==============================] - 6s 4ms/step - loss: 0.2404 - accuracy: 0.9052\n",
            "Epoch 20/200\n",
            "1829/1829 [==============================] - 7s 4ms/step - loss: 0.2399 - accuracy: 0.9052\n",
            "Epoch 21/200\n",
            "1829/1829 [==============================] - 6s 4ms/step - loss: 0.2395 - accuracy: 0.9058\n",
            "Epoch 22/200\n",
            "1829/1829 [==============================] - 6s 3ms/step - loss: 0.2389 - accuracy: 0.9067\n",
            "Epoch 23/200\n",
            "1829/1829 [==============================] - 7s 4ms/step - loss: 0.2384 - accuracy: 0.9058\n",
            "Epoch 24/200\n",
            "1829/1829 [==============================] - 6s 4ms/step - loss: 0.2381 - accuracy: 0.9066\n",
            "Epoch 25/200\n",
            "1829/1829 [==============================] - 7s 4ms/step - loss: 0.2375 - accuracy: 0.9072\n",
            "Epoch 26/200\n",
            "1829/1829 [==============================] - 6s 4ms/step - loss: 0.2372 - accuracy: 0.9070\n",
            "Epoch 27/200\n",
            "1829/1829 [==============================] - 7s 4ms/step - loss: 0.2370 - accuracy: 0.9066\n",
            "Epoch 28/200\n",
            "1829/1829 [==============================] - 7s 4ms/step - loss: 0.2365 - accuracy: 0.9083\n",
            "Epoch 29/200\n",
            "1829/1829 [==============================] - 7s 4ms/step - loss: 0.2360 - accuracy: 0.9079\n",
            "Epoch 30/200\n",
            "1829/1829 [==============================] - 7s 4ms/step - loss: 0.2360 - accuracy: 0.9079\n",
            "Epoch 31/200\n",
            "1829/1829 [==============================] - 6s 4ms/step - loss: 0.2357 - accuracy: 0.9076\n",
            "Epoch 32/200\n",
            "1829/1829 [==============================] - 7s 4ms/step - loss: 0.2356 - accuracy: 0.9086\n",
            "Epoch 33/200\n",
            "1829/1829 [==============================] - 7s 4ms/step - loss: 0.2357 - accuracy: 0.9087\n",
            "Epoch 34/200\n",
            "1829/1829 [==============================] - 7s 4ms/step - loss: 0.2352 - accuracy: 0.9083\n",
            "Epoch 35/200\n",
            "1829/1829 [==============================] - 7s 4ms/step - loss: 0.2349 - accuracy: 0.9086\n",
            "Epoch 36/200\n",
            "1829/1829 [==============================] - 7s 4ms/step - loss: 0.2347 - accuracy: 0.9088\n",
            "Epoch 37/200\n",
            "1829/1829 [==============================] - 7s 4ms/step - loss: 0.2346 - accuracy: 0.9087\n",
            "Epoch 38/200\n",
            "1829/1829 [==============================] - 7s 4ms/step - loss: 0.2342 - accuracy: 0.9090\n",
            "Epoch 39/200\n",
            "1829/1829 [==============================] - 7s 4ms/step - loss: 0.2341 - accuracy: 0.9089\n",
            "Epoch 40/200\n",
            "1829/1829 [==============================] - 6s 4ms/step - loss: 0.2340 - accuracy: 0.9091\n",
            "Epoch 41/200\n",
            "1829/1829 [==============================] - 7s 4ms/step - loss: 0.2339 - accuracy: 0.9092\n",
            "Epoch 42/200\n",
            "1829/1829 [==============================] - 6s 4ms/step - loss: 0.2337 - accuracy: 0.9094\n",
            "Epoch 43/200\n",
            "1829/1829 [==============================] - 7s 4ms/step - loss: 0.2334 - accuracy: 0.9096\n",
            "Epoch 44/200\n",
            "1829/1829 [==============================] - 7s 4ms/step - loss: 0.2333 - accuracy: 0.9098\n",
            "Epoch 45/200\n",
            "1829/1829 [==============================] - 7s 4ms/step - loss: 0.2332 - accuracy: 0.9095\n",
            "Epoch 46/200\n",
            "1829/1829 [==============================] - 6s 4ms/step - loss: 0.2331 - accuracy: 0.9097\n",
            "Epoch 47/200\n",
            "1829/1829 [==============================] - 6s 3ms/step - loss: 0.2330 - accuracy: 0.9098\n",
            "Epoch 48/200\n",
            "1829/1829 [==============================] - 7s 4ms/step - loss: 0.2328 - accuracy: 0.9090\n",
            "Epoch 49/200\n",
            "1829/1829 [==============================] - 7s 4ms/step - loss: 0.2326 - accuracy: 0.9101\n",
            "Epoch 50/200\n",
            "1829/1829 [==============================] - 7s 4ms/step - loss: 0.2328 - accuracy: 0.9093\n",
            "Epoch 51/200\n",
            "1829/1829 [==============================] - 7s 4ms/step - loss: 0.2323 - accuracy: 0.9096\n",
            "Epoch 52/200\n",
            "1829/1829 [==============================] - 7s 4ms/step - loss: 0.2322 - accuracy: 0.9104\n",
            "Epoch 53/200\n",
            "1829/1829 [==============================] - 7s 4ms/step - loss: 0.2324 - accuracy: 0.9101\n",
            "Epoch 54/200\n",
            "1829/1829 [==============================] - 7s 4ms/step - loss: 0.2321 - accuracy: 0.9101\n",
            "Epoch 55/200\n",
            "1829/1829 [==============================] - 7s 4ms/step - loss: 0.2320 - accuracy: 0.9104\n",
            "Epoch 56/200\n",
            "1829/1829 [==============================] - 7s 4ms/step - loss: 0.2320 - accuracy: 0.9100\n",
            "Epoch 57/200\n",
            "1829/1829 [==============================] - 7s 4ms/step - loss: 0.2315 - accuracy: 0.9103\n",
            "Epoch 58/200\n",
            "1829/1829 [==============================] - 7s 4ms/step - loss: 0.2317 - accuracy: 0.9101\n",
            "Epoch 59/200\n",
            "1829/1829 [==============================] - 7s 4ms/step - loss: 0.2315 - accuracy: 0.9106\n",
            "Epoch 60/200\n",
            "1829/1829 [==============================] - 7s 4ms/step - loss: 0.2312 - accuracy: 0.9105\n",
            "Epoch 61/200\n",
            "1829/1829 [==============================] - 7s 4ms/step - loss: 0.2312 - accuracy: 0.9104\n",
            "Epoch 62/200\n",
            "1829/1829 [==============================] - 7s 4ms/step - loss: 0.2311 - accuracy: 0.9109\n",
            "Epoch 63/200\n",
            "1829/1829 [==============================] - 7s 4ms/step - loss: 0.2312 - accuracy: 0.9107\n",
            "Epoch 64/200\n",
            "1829/1829 [==============================] - 7s 4ms/step - loss: 0.2309 - accuracy: 0.9104\n",
            "Epoch 65/200\n",
            "1829/1829 [==============================] - 7s 4ms/step - loss: 0.2308 - accuracy: 0.9112\n",
            "Epoch 66/200\n",
            "1829/1829 [==============================] - 7s 4ms/step - loss: 0.2309 - accuracy: 0.9105\n",
            "Epoch 67/200\n",
            "1829/1829 [==============================] - 7s 4ms/step - loss: 0.2308 - accuracy: 0.9105\n",
            "Epoch 68/200\n",
            "1829/1829 [==============================] - 7s 4ms/step - loss: 0.2308 - accuracy: 0.9104\n",
            "Epoch 69/200\n",
            "1829/1829 [==============================] - 7s 4ms/step - loss: 0.2307 - accuracy: 0.9107\n",
            "Epoch 70/200\n",
            "1829/1829 [==============================] - 7s 4ms/step - loss: 0.2306 - accuracy: 0.9103\n",
            "Epoch 71/200\n",
            "1829/1829 [==============================] - 7s 4ms/step - loss: 0.2307 - accuracy: 0.9107\n",
            "Epoch 72/200\n",
            "1829/1829 [==============================] - 7s 4ms/step - loss: 0.2307 - accuracy: 0.9109\n",
            "Epoch 73/200\n",
            "1829/1829 [==============================] - 7s 4ms/step - loss: 0.2304 - accuracy: 0.9115\n",
            "Epoch 74/200\n",
            "1829/1829 [==============================] - 7s 4ms/step - loss: 0.2303 - accuracy: 0.9112\n",
            "Epoch 75/200\n",
            "1829/1829 [==============================] - 7s 4ms/step - loss: 0.2304 - accuracy: 0.9105\n",
            "Epoch 76/200\n",
            "1829/1829 [==============================] - 7s 4ms/step - loss: 0.2304 - accuracy: 0.9106\n",
            "Epoch 77/200\n",
            "1829/1829 [==============================] - 7s 4ms/step - loss: 0.2301 - accuracy: 0.9109\n",
            "Epoch 78/200\n",
            "1829/1829 [==============================] - 7s 4ms/step - loss: 0.2302 - accuracy: 0.9108\n",
            "Epoch 79/200\n",
            "1829/1829 [==============================] - 7s 4ms/step - loss: 0.2300 - accuracy: 0.9113\n",
            "Epoch 80/200\n",
            "1829/1829 [==============================] - 7s 4ms/step - loss: 0.2303 - accuracy: 0.9105\n",
            "Epoch 81/200\n",
            "1829/1829 [==============================] - 7s 4ms/step - loss: 0.2300 - accuracy: 0.9114\n",
            "Epoch 82/200\n",
            "1829/1829 [==============================] - 7s 4ms/step - loss: 0.2300 - accuracy: 0.9106\n",
            "Epoch 83/200\n",
            "1829/1829 [==============================] - 7s 4ms/step - loss: 0.2299 - accuracy: 0.9110\n",
            "Epoch 84/200\n",
            "1829/1829 [==============================] - 7s 4ms/step - loss: 0.2299 - accuracy: 0.9103\n",
            "Epoch 85/200\n",
            "1829/1829 [==============================] - 7s 4ms/step - loss: 0.2299 - accuracy: 0.9120\n",
            "Epoch 86/200\n",
            "1829/1829 [==============================] - 7s 4ms/step - loss: 0.2301 - accuracy: 0.9112\n",
            "Epoch 87/200\n",
            "1829/1829 [==============================] - 7s 4ms/step - loss: 0.2298 - accuracy: 0.9108\n",
            "Epoch 88/200\n",
            "1829/1829 [==============================] - 7s 4ms/step - loss: 0.2296 - accuracy: 0.9111\n",
            "Epoch 89/200\n",
            "1829/1829 [==============================] - 7s 4ms/step - loss: 0.2297 - accuracy: 0.9108\n",
            "Epoch 90/200\n",
            "1829/1829 [==============================] - 7s 4ms/step - loss: 0.2295 - accuracy: 0.9113\n",
            "Epoch 91/200\n",
            "1829/1829 [==============================] - 7s 4ms/step - loss: 0.2298 - accuracy: 0.9107\n",
            "Epoch 92/200\n",
            "1829/1829 [==============================] - 7s 4ms/step - loss: 0.2295 - accuracy: 0.9112\n",
            "Epoch 93/200\n",
            "1829/1829 [==============================] - 7s 4ms/step - loss: 0.2292 - accuracy: 0.9111\n",
            "Epoch 94/200\n",
            "1829/1829 [==============================] - 7s 4ms/step - loss: 0.2294 - accuracy: 0.9113\n",
            "Epoch 95/200\n",
            "1829/1829 [==============================] - 7s 4ms/step - loss: 0.2295 - accuracy: 0.9109\n",
            "Epoch 96/200\n",
            "1829/1829 [==============================] - 7s 4ms/step - loss: 0.2296 - accuracy: 0.9111\n",
            "Epoch 97/200\n",
            "1829/1829 [==============================] - 7s 4ms/step - loss: 0.2289 - accuracy: 0.9114\n",
            "Epoch 98/200\n",
            "1829/1829 [==============================] - 7s 4ms/step - loss: 0.2291 - accuracy: 0.9113\n",
            "Epoch 99/200\n",
            "1829/1829 [==============================] - 7s 4ms/step - loss: 0.2293 - accuracy: 0.9111\n",
            "Epoch 100/200\n",
            "1829/1829 [==============================] - 7s 4ms/step - loss: 0.2290 - accuracy: 0.9110\n",
            "Epoch 101/200\n",
            "1829/1829 [==============================] - 7s 4ms/step - loss: 0.2290 - accuracy: 0.9117\n",
            "Epoch 102/200\n",
            "1829/1829 [==============================] - 7s 4ms/step - loss: 0.2289 - accuracy: 0.9111\n",
            "Epoch 103/200\n",
            "1829/1829 [==============================] - 7s 4ms/step - loss: 0.2288 - accuracy: 0.9116\n",
            "Epoch 104/200\n",
            "1829/1829 [==============================] - 7s 4ms/step - loss: 0.2289 - accuracy: 0.9111\n",
            "Epoch 105/200\n",
            "1829/1829 [==============================] - 7s 4ms/step - loss: 0.2287 - accuracy: 0.9109\n",
            "Epoch 106/200\n",
            "1829/1829 [==============================] - 7s 4ms/step - loss: 0.2288 - accuracy: 0.9113\n",
            "Epoch 107/200\n",
            "1829/1829 [==============================] - 7s 4ms/step - loss: 0.2283 - accuracy: 0.9112\n",
            "Epoch 108/200\n",
            "1829/1829 [==============================] - 7s 4ms/step - loss: 0.2285 - accuracy: 0.9117\n",
            "Epoch 109/200\n",
            "1829/1829 [==============================] - 7s 4ms/step - loss: 0.2284 - accuracy: 0.9116\n",
            "Epoch 110/200\n",
            "1829/1829 [==============================] - 7s 4ms/step - loss: 0.2287 - accuracy: 0.9114\n",
            "Epoch 111/200\n",
            "1829/1829 [==============================] - 7s 4ms/step - loss: 0.2285 - accuracy: 0.9113\n",
            "Epoch 112/200\n",
            "1829/1829 [==============================] - 7s 4ms/step - loss: 0.2283 - accuracy: 0.9118\n",
            "Epoch 113/200\n",
            "1829/1829 [==============================] - 7s 4ms/step - loss: 0.2285 - accuracy: 0.9118\n",
            "Epoch 114/200\n",
            "1829/1829 [==============================] - 7s 4ms/step - loss: 0.2285 - accuracy: 0.9114\n",
            "Epoch 115/200\n",
            "1829/1829 [==============================] - 7s 4ms/step - loss: 0.2283 - accuracy: 0.9114\n",
            "Epoch 116/200\n",
            "1829/1829 [==============================] - 7s 4ms/step - loss: 0.2281 - accuracy: 0.9122\n",
            "Epoch 117/200\n",
            "1829/1829 [==============================] - 7s 4ms/step - loss: 0.2283 - accuracy: 0.9113\n",
            "Epoch 118/200\n",
            "1829/1829 [==============================] - 7s 4ms/step - loss: 0.2280 - accuracy: 0.9114\n",
            "Epoch 119/200\n",
            "1829/1829 [==============================] - 7s 4ms/step - loss: 0.2282 - accuracy: 0.9115\n",
            "Epoch 120/200\n",
            "1829/1829 [==============================] - 7s 4ms/step - loss: 0.2280 - accuracy: 0.9107\n",
            "Epoch 121/200\n",
            "1829/1829 [==============================] - 7s 4ms/step - loss: 0.2279 - accuracy: 0.9116\n",
            "Epoch 122/200\n",
            "1829/1829 [==============================] - 7s 4ms/step - loss: 0.2279 - accuracy: 0.9118\n",
            "Epoch 123/200\n",
            "1829/1829 [==============================] - 7s 4ms/step - loss: 0.2280 - accuracy: 0.9114\n",
            "Epoch 124/200\n",
            "1829/1829 [==============================] - 7s 4ms/step - loss: 0.2277 - accuracy: 0.9121\n",
            "Epoch 125/200\n",
            "1829/1829 [==============================] - 7s 4ms/step - loss: 0.2280 - accuracy: 0.9120\n",
            "Epoch 126/200\n",
            "1829/1829 [==============================] - 7s 4ms/step - loss: 0.2280 - accuracy: 0.9113\n",
            "Epoch 127/200\n",
            "1829/1829 [==============================] - 7s 4ms/step - loss: 0.2278 - accuracy: 0.9121\n",
            "Epoch 128/200\n",
            "1829/1829 [==============================] - 7s 4ms/step - loss: 0.2276 - accuracy: 0.9114\n",
            "Epoch 129/200\n",
            "1829/1829 [==============================] - 7s 4ms/step - loss: 0.2275 - accuracy: 0.9115\n",
            "Epoch 130/200\n",
            "1829/1829 [==============================] - 7s 4ms/step - loss: 0.2278 - accuracy: 0.9117\n",
            "Epoch 131/200\n",
            "1829/1829 [==============================] - 7s 4ms/step - loss: 0.2277 - accuracy: 0.9117\n",
            "Epoch 132/200\n",
            "1829/1829 [==============================] - 7s 4ms/step - loss: 0.2278 - accuracy: 0.9125\n",
            "Epoch 133/200\n",
            "1829/1829 [==============================] - 7s 4ms/step - loss: 0.2275 - accuracy: 0.9119\n",
            "Epoch 134/200\n",
            "1829/1829 [==============================] - 7s 4ms/step - loss: 0.2275 - accuracy: 0.9122\n",
            "Epoch 135/200\n",
            "1829/1829 [==============================] - 7s 4ms/step - loss: 0.2274 - accuracy: 0.9122\n",
            "Epoch 136/200\n",
            "1829/1829 [==============================] - 7s 4ms/step - loss: 0.2274 - accuracy: 0.9124\n",
            "Epoch 137/200\n",
            "1829/1829 [==============================] - 7s 4ms/step - loss: 0.2274 - accuracy: 0.9120\n",
            "Epoch 138/200\n",
            "1829/1829 [==============================] - 7s 4ms/step - loss: 0.2273 - accuracy: 0.9120\n",
            "Epoch 139/200\n",
            "1829/1829 [==============================] - 7s 4ms/step - loss: 0.2272 - accuracy: 0.9122\n",
            "Epoch 140/200\n",
            "1829/1829 [==============================] - 7s 4ms/step - loss: 0.2271 - accuracy: 0.9124\n",
            "Epoch 141/200\n",
            "1829/1829 [==============================] - 7s 4ms/step - loss: 0.2271 - accuracy: 0.9126\n",
            "Epoch 142/200\n",
            "1829/1829 [==============================] - 7s 4ms/step - loss: 0.2271 - accuracy: 0.9127\n",
            "Epoch 143/200\n",
            "1829/1829 [==============================] - 7s 4ms/step - loss: 0.2271 - accuracy: 0.9126\n",
            "Epoch 144/200\n",
            "1829/1829 [==============================] - 7s 4ms/step - loss: 0.2272 - accuracy: 0.9126\n",
            "Epoch 145/200\n",
            "1829/1829 [==============================] - 7s 4ms/step - loss: 0.2270 - accuracy: 0.9124\n",
            "Epoch 146/200\n",
            "1829/1829 [==============================] - 7s 4ms/step - loss: 0.2268 - accuracy: 0.9124\n",
            "Epoch 147/200\n",
            "1829/1829 [==============================] - 11s 6ms/step - loss: 0.2270 - accuracy: 0.9121\n",
            "Epoch 148/200\n",
            "1829/1829 [==============================] - 14s 7ms/step - loss: 0.2271 - accuracy: 0.9121\n",
            "Epoch 149/200\n",
            "1829/1829 [==============================] - 12s 6ms/step - loss: 0.2269 - accuracy: 0.9121\n",
            "Epoch 150/200\n",
            "1829/1829 [==============================] - 11s 6ms/step - loss: 0.2267 - accuracy: 0.9129\n",
            "Epoch 151/200\n",
            "1829/1829 [==============================] - 9s 5ms/step - loss: 0.2269 - accuracy: 0.9128\n",
            "Epoch 152/200\n",
            "1829/1829 [==============================] - 7s 4ms/step - loss: 0.2265 - accuracy: 0.9125\n",
            "Epoch 153/200\n",
            "1829/1829 [==============================] - 7s 4ms/step - loss: 0.2266 - accuracy: 0.9129\n",
            "Epoch 154/200\n",
            "1829/1829 [==============================] - 7s 4ms/step - loss: 0.2265 - accuracy: 0.9123\n",
            "Epoch 155/200\n",
            "1829/1829 [==============================] - 7s 4ms/step - loss: 0.2266 - accuracy: 0.9125\n",
            "Epoch 156/200\n",
            "1829/1829 [==============================] - 7s 4ms/step - loss: 0.2266 - accuracy: 0.9123\n",
            "Epoch 157/200\n",
            "1829/1829 [==============================] - 7s 4ms/step - loss: 0.2265 - accuracy: 0.9125\n",
            "Epoch 158/200\n",
            "1829/1829 [==============================] - 7s 4ms/step - loss: 0.2262 - accuracy: 0.9134\n",
            "Epoch 159/200\n",
            "1829/1829 [==============================] - 7s 4ms/step - loss: 0.2264 - accuracy: 0.9137\n",
            "Epoch 160/200\n",
            "1829/1829 [==============================] - 7s 4ms/step - loss: 0.2265 - accuracy: 0.9121\n",
            "Epoch 161/200\n",
            "1829/1829 [==============================] - 7s 4ms/step - loss: 0.2261 - accuracy: 0.9136\n",
            "Epoch 162/200\n",
            "1829/1829 [==============================] - 7s 4ms/step - loss: 0.2261 - accuracy: 0.9121\n",
            "Epoch 163/200\n",
            "1829/1829 [==============================] - 7s 4ms/step - loss: 0.2264 - accuracy: 0.9130\n",
            "Epoch 164/200\n",
            "1829/1829 [==============================] - 7s 4ms/step - loss: 0.2262 - accuracy: 0.9126\n",
            "Epoch 165/200\n",
            "1829/1829 [==============================] - 7s 4ms/step - loss: 0.2259 - accuracy: 0.9122\n",
            "Epoch 166/200\n",
            "1829/1829 [==============================] - 7s 4ms/step - loss: 0.2260 - accuracy: 0.9131\n",
            "Epoch 167/200\n",
            "1829/1829 [==============================] - 7s 4ms/step - loss: 0.2261 - accuracy: 0.9123\n",
            "Epoch 168/200\n",
            "1829/1829 [==============================] - 7s 4ms/step - loss: 0.2260 - accuracy: 0.9125\n",
            "Epoch 169/200\n",
            "1829/1829 [==============================] - 7s 4ms/step - loss: 0.2258 - accuracy: 0.9130\n",
            "Epoch 170/200\n",
            "1829/1829 [==============================] - 7s 4ms/step - loss: 0.2259 - accuracy: 0.9128\n",
            "Epoch 171/200\n",
            "1829/1829 [==============================] - 7s 4ms/step - loss: 0.2258 - accuracy: 0.9125\n",
            "Epoch 172/200\n",
            "1829/1829 [==============================] - 7s 4ms/step - loss: 0.2257 - accuracy: 0.9135\n",
            "Epoch 173/200\n",
            "1829/1829 [==============================] - 7s 4ms/step - loss: 0.2258 - accuracy: 0.9130\n",
            "Epoch 174/200\n",
            "1829/1829 [==============================] - 7s 4ms/step - loss: 0.2254 - accuracy: 0.9126\n",
            "Epoch 175/200\n",
            "1829/1829 [==============================] - 7s 4ms/step - loss: 0.2258 - accuracy: 0.9133\n",
            "Epoch 176/200\n",
            "1829/1829 [==============================] - 7s 4ms/step - loss: 0.2255 - accuracy: 0.9132\n",
            "Epoch 177/200\n",
            "1829/1829 [==============================] - 7s 4ms/step - loss: 0.2255 - accuracy: 0.9132\n",
            "Epoch 178/200\n",
            "1829/1829 [==============================] - 7s 4ms/step - loss: 0.2256 - accuracy: 0.9137\n",
            "Epoch 179/200\n",
            "1829/1829 [==============================] - 7s 4ms/step - loss: 0.2254 - accuracy: 0.9133\n",
            "Epoch 180/200\n",
            "1829/1829 [==============================] - 7s 4ms/step - loss: 0.2253 - accuracy: 0.9126\n",
            "Epoch 181/200\n",
            "1829/1829 [==============================] - 13s 7ms/step - loss: 0.2255 - accuracy: 0.9130\n",
            "Epoch 182/200\n",
            "1829/1829 [==============================] - 12s 6ms/step - loss: 0.2255 - accuracy: 0.9130\n",
            "Epoch 183/200\n",
            "1829/1829 [==============================] - 11s 6ms/step - loss: 0.2253 - accuracy: 0.9128\n",
            "Epoch 184/200\n",
            "1829/1829 [==============================] - 11s 6ms/step - loss: 0.2254 - accuracy: 0.9135\n",
            "Epoch 185/200\n",
            "1829/1829 [==============================] - 11s 6ms/step - loss: 0.2255 - accuracy: 0.9131\n",
            "Epoch 186/200\n",
            "1829/1829 [==============================] - 8s 5ms/step - loss: 0.2254 - accuracy: 0.9127\n",
            "Epoch 187/200\n",
            "1829/1829 [==============================] - 7s 4ms/step - loss: 0.2252 - accuracy: 0.9128\n",
            "Epoch 188/200\n",
            "1829/1829 [==============================] - 7s 4ms/step - loss: 0.2253 - accuracy: 0.9128\n",
            "Epoch 189/200\n",
            "1829/1829 [==============================] - 7s 4ms/step - loss: 0.2250 - accuracy: 0.9139\n",
            "Epoch 190/200\n",
            "1829/1829 [==============================] - 7s 4ms/step - loss: 0.2252 - accuracy: 0.9132\n",
            "Epoch 191/200\n",
            "1829/1829 [==============================] - 7s 4ms/step - loss: 0.2254 - accuracy: 0.9130\n",
            "Epoch 192/200\n",
            "1829/1829 [==============================] - 7s 4ms/step - loss: 0.2253 - accuracy: 0.9132\n",
            "Epoch 193/200\n",
            "1829/1829 [==============================] - 7s 4ms/step - loss: 0.2252 - accuracy: 0.9129\n",
            "Epoch 194/200\n",
            "1829/1829 [==============================] - 7s 4ms/step - loss: 0.2252 - accuracy: 0.9133\n",
            "Epoch 195/200\n",
            "1829/1829 [==============================] - 7s 4ms/step - loss: 0.2250 - accuracy: 0.9138\n",
            "Epoch 196/200\n",
            "1829/1829 [==============================] - 7s 4ms/step - loss: 0.2252 - accuracy: 0.9129\n",
            "Epoch 197/200\n",
            "1829/1829 [==============================] - 7s 4ms/step - loss: 0.2250 - accuracy: 0.9136\n",
            "Epoch 198/200\n",
            "1829/1829 [==============================] - 8s 4ms/step - loss: 0.2249 - accuracy: 0.9131\n",
            "Epoch 199/200\n",
            "1829/1829 [==============================] - 7s 4ms/step - loss: 0.2253 - accuracy: 0.9131\n",
            "Epoch 200/200\n",
            "1829/1829 [==============================] - 7s 4ms/step - loss: 0.2250 - accuracy: 0.9134\n"
          ]
        }
      ]
    },
    {
      "cell_type": "code",
      "source": [
        "score1 = model1.evaluate(X_test, y_test, verbose=0)"
      ],
      "metadata": {
        "id": "vduxNB6rPoy2"
      },
      "execution_count": 110,
      "outputs": []
    },
    {
      "cell_type": "code",
      "source": [
        "print('Test loss ANN_2', score1[0])\n",
        "print('Test accuracy ANN_2:', score1[1])"
      ],
      "metadata": {
        "colab": {
          "base_uri": "https://localhost:8080/"
        },
        "id": "muIpWjr-PjFp",
        "outputId": "a1c40c58-86a0-4a0d-9ace-19b4e0b565dc"
      },
      "execution_count": 111,
      "outputs": [
        {
          "output_type": "stream",
          "name": "stdout",
          "text": [
            "Test loss ANN_2 0.2869773507118225\n",
            "Test accuracy ANN_2: 0.8712065815925598\n"
          ]
        }
      ]
    },
    {
      "cell_type": "code",
      "source": [
        "print(history1.history.keys())\n",
        "#  \"Accuracy\"\n",
        "plt.plot(history1.history['accuracy'])\n",
        "plt.title('model accuracy')\n",
        "plt.ylabel('accuracy')\n",
        "plt.xlabel('epoch')\n",
        "plt.legend(['train'], loc='upper left')\n",
        "plt.show()\n",
        "# \"Loss\"\n",
        "plt.plot(history1.history['loss'])\n",
        "plt.title('model loss')\n",
        "plt.ylabel('loss')\n",
        "plt.xlabel('epoch')\n",
        "plt.legend(['train'], loc='upper left')\n",
        "plt.show()"
      ],
      "metadata": {
        "colab": {
          "base_uri": "https://localhost:8080/",
          "height": 589
        },
        "id": "2VA8DnYn0Jlq",
        "outputId": "853c5690-f8f4-4bcc-8cfc-085786bb3861"
      },
      "execution_count": 112,
      "outputs": [
        {
          "output_type": "stream",
          "name": "stdout",
          "text": [
            "dict_keys(['loss', 'accuracy'])\n"
          ]
        },
        {
          "output_type": "display_data",
          "data": {
            "image/png": "[encoded data removed]",
            "text/plain": [
              "<Figure size 432x288 with 1 Axes>"
            ]
          },
          "metadata": {
            "needs_background": "light"
          }
        },
        {
          "output_type": "display_data",
          "data": {
            "image/png": "[encoded data removed]",
            "text/plain": [
              "<Figure size 432x288 with 1 Axes>"
            ]
          },
          "metadata": {
            "needs_background": "light"
          }
        }
      ]
    },
    {
      "cell_type": "markdown",
      "source": [
        "**Các thuật toán ML**"
      ],
      "metadata": {
        "id": "DkmjE5WUbmtz"
      }
    },
    {
      "cell_type": "code",
      "source": [
        "def fit_ml_algo(algo, X_train, y_train, X_test, cv):\n",
        "    model = algo.fit(X_train, y_train)\n",
        "    test_pred = model.predict(X_test)\n",
        "    if (isinstance(algo, (LogisticRegression, \n",
        "                          KNeighborsClassifier, \n",
        "                          GaussianNB, \n",
        "                          DecisionTreeClassifier, \n",
        "                          RandomForestClassifier,\n",
        "                          GradientBoostingClassifier,\n",
        "                          )\n",
        "                     )\n",
        "                  ):\n",
        "        probs = model.predict_proba(X_test)[:,1]\n",
        "    else:\n",
        "        probs = \"Not Available\"\n",
        "    acc = round(model.score(X_test, y_test) * 100, 2) \n",
        "    # CV \n",
        "    train_pred = model_selection.cross_val_predict(algo, \n",
        "                                                  X_train, \n",
        "                                                  y_train, \n",
        "                                                  cv=cv, \n",
        "                                                  n_jobs = -1)\n",
        "    acc_cv = round(metrics.accuracy_score(y_train, train_pred) * 100, 2)\n",
        "    return train_pred, test_pred, acc, acc_cv, probs"
      ],
      "metadata": {
        "id": "O8g2Ip8lMOh6"
      },
      "execution_count": 40,
      "outputs": []
    },
    {
      "cell_type": "code",
      "source": [
        "def plot_roc_curve(y_test, preds):\n",
        "    fpr, tpr, threshold = metrics.roc_curve(y_test, preds)\n",
        "    roc_auc = metrics.auc(fpr, tpr)\n",
        "    plt.title('Receiver Operating Characteristic')\n",
        "    plt.plot(fpr, tpr, 'b', label = 'AUC = %0.2f' % roc_auc)\n",
        "    plt.legend(loc = 'lower right')\n",
        "    plt.plot([0, 1], [0, 1],'r--')\n",
        "    plt.xlim([-0.01, 1.01])\n",
        "    plt.ylim([-0.01, 1.01])\n",
        "    plt.ylabel('True Positive Rate')\n",
        "    plt.xlabel('False Positive Rate')\n",
        "    plt.show()"
      ],
      "metadata": {
        "id": "CAZxaP9DMYtb"
      },
      "execution_count": 41,
      "outputs": []
    },
    {
      "cell_type": "markdown",
      "source": [
        "**Logistic Regression**"
      ],
      "metadata": {
        "id": "G-e-hwpncnsA"
      }
    },
    {
      "cell_type": "code",
      "source": [
        "def warn(*args, **kwargs):\n",
        "    pass\n",
        "import warnings\n",
        "warnings.warn = warn"
      ],
      "metadata": {
        "id": "bX4gRcJMliez"
      },
      "execution_count": 50,
      "outputs": []
    },
    {
      "cell_type": "code",
      "source": [
        "# Random Search for Hyperparameters\n",
        "\n",
        "def report(results, n_top=5):\n",
        "    for i in range(1, n_top + 1):\n",
        "        candidates = np.flatnonzero(results['rank_test_score'] == i)\n",
        "        for candidate in candidates:\n",
        "            print(\"Model with rank: {0}\".format(i))\n",
        "            print(\"Mean validation score: {0:.3f} (std: {1:.3f})\".format(\n",
        "                  results['mean_test_score'][candidate],\n",
        "                  results['std_test_score'][candidate]))\n",
        "            print(\"Parameters: {0}\".format(results['params'][candidate]))\n",
        "            print(\"\")\n",
        "            \n",
        "param_dist = {'penalty': ['l2', 'l1'], \n",
        "                         'class_weight': [None, 'balanced'],\n",
        "                         'C': np.logspace(-20, 20, 10000), \n",
        "                         'intercept_scaling': np.logspace(-20, 20, 10000)}\n",
        "\n",
        "# Run Randomized Search\n",
        "n_iter_search = 10\n",
        "lrc = LogisticRegression()\n",
        "random_search = RandomizedSearchCV(lrc, \n",
        "                                   n_jobs=-1, \n",
        "                                   param_distributions=param_dist, \n",
        "                                   n_iter=n_iter_search)\n",
        "\n",
        "start = time.time()\n",
        "random_search.fit(X_train, y_train)\n",
        "print(\"RandomizedSearchCV took %.2f seconds for %d candidates\"\n",
        "      \" parameter settings.\" % ((time.time() - start), n_iter_search))\n",
        "report(random_search.cv_results_)"
      ],
      "metadata": {
        "colab": {
          "base_uri": "https://localhost:8080/"
        },
        "id": "p3ajjTrjMdI0",
        "outputId": "dd707afc-71c6-4d93-9fd4-7744eb983365"
      },
      "execution_count": 51,
      "outputs": [
        {
          "output_type": "stream",
          "name": "stdout",
          "text": [
            "RandomizedSearchCV took 4.74 seconds for 10 candidates parameter settings.\n",
            "Model with rank: 1\n",
            "Mean validation score: 0.881 (std: 0.004)\n",
            "Parameters: {'penalty': 'l2', 'intercept_scaling': 80.57320127630955, 'class_weight': None, 'C': 513536.1928705051}\n",
            "\n",
            "Model with rank: 1\n",
            "Mean validation score: 0.881 (std: 0.004)\n",
            "Parameters: {'penalty': 'l2', 'intercept_scaling': 368855858.4697691, 'class_weight': 'balanced', 'C': 99655.17359035104}\n",
            "\n",
            "Model with rank: 1\n",
            "Mean validation score: 0.881 (std: 0.004)\n",
            "Parameters: {'penalty': 'l2', 'intercept_scaling': 243690547.60272655, 'class_weight': None, 'C': 1.8282105156349413}\n",
            "\n",
            "Model with rank: 4\n",
            "Mean validation score: 0.833 (std: 0.003)\n",
            "Parameters: {'penalty': 'l2', 'intercept_scaling': 3.842009689794773e-15, 'class_weight': None, 'C': 4.6726898610884074e-05}\n",
            "\n",
            "Model with rank: 5\n",
            "Mean validation score: nan (std: nan)\n",
            "Parameters: {'penalty': 'l1', 'intercept_scaling': 2.5126963795609273e-19, 'class_weight': 'balanced', 'C': 1.0408825796200197e-06}\n",
            "\n"
          ]
        }
      ]
    },
    {
      "cell_type": "code",
      "source": [
        "start_time = time.time()\n",
        "train_pred_log, test_pred_log, acc_log, acc_cv_log, probs_log = fit_ml_algo(LogisticRegression(n_jobs = -1), \n",
        "                                                                 X_train, \n",
        "                                                                 y_train, \n",
        "                                                                 X_test, \n",
        "                                                                 10)\n",
        "log_time = (time.time() - start_time)\n",
        "print(\"Accuracy: %s\" % acc_log)\n",
        "print(\"Accuracy CV 10-Fold: %s\" % acc_cv_log)\n",
        "print(\"Running Time: %s\" % datetime.timedelta(seconds=log_time))"
      ],
      "metadata": {
        "colab": {
          "base_uri": "https://localhost:8080/"
        },
        "id": "3IZdVkCfNRi1",
        "outputId": "019f9929-70db-48cc-fb64-86e74c5da585"
      },
      "execution_count": 52,
      "outputs": [
        {
          "output_type": "stream",
          "name": "stdout",
          "text": [
            "Accuracy: 86.33\n",
            "Accuracy CV 10-Fold: 88.05\n",
            "Running Time: 0:00:04.662019\n"
          ]
        }
      ]
    },
    {
      "cell_type": "code",
      "source": [
        "from sklearn.metrics import classification_report\n",
        "print (metrics.classification_report(y_train, train_pred_log))"
      ],
      "metadata": {
        "colab": {
          "base_uri": "https://localhost:8080/"
        },
        "id": "-ILcUsXDNVPB",
        "outputId": "3e9118c0-1387-411d-b508-83be76ef4cb9"
      },
      "execution_count": 53,
      "outputs": [
        {
          "output_type": "stream",
          "name": "stdout",
          "text": [
            "              precision    recall  f1-score   support\n",
            "\n",
            "           0       0.89      0.86      0.88     29254\n",
            "           1       0.87      0.90      0.88     29254\n",
            "\n",
            "    accuracy                           0.88     58508\n",
            "   macro avg       0.88      0.88      0.88     58508\n",
            "weighted avg       0.88      0.88      0.88     58508\n",
            "\n"
          ]
        }
      ]
    },
    {
      "cell_type": "code",
      "source": [
        "print (metrics.classification_report(y_test, test_pred_log))"
      ],
      "metadata": {
        "colab": {
          "base_uri": "https://localhost:8080/"
        },
        "id": "y75Z4YoCNbUa",
        "outputId": "a3e19492-1595-48d4-963d-e8229a17eef6"
      },
      "execution_count": 54,
      "outputs": [
        {
          "output_type": "stream",
          "name": "stdout",
          "text": [
            "              precision    recall  f1-score   support\n",
            "\n",
            "           0       0.98      0.86      0.92      7294\n",
            "           1       0.45      0.86      0.59       944\n",
            "\n",
            "    accuracy                           0.86      8238\n",
            "   macro avg       0.71      0.86      0.75      8238\n",
            "weighted avg       0.92      0.86      0.88      8238\n",
            "\n"
          ]
        }
      ]
    },
    {
      "cell_type": "code",
      "source": [
        "plot_roc_curve(y_test, probs_log)"
      ],
      "metadata": {
        "colab": {
          "base_uri": "https://localhost:8080/",
          "height": 295
        },
        "id": "8NSgBN56Nf9b",
        "outputId": "a4b216a7-40ef-4aef-b108-0607ba4863fe"
      },
      "execution_count": 55,
      "outputs": [
        {
          "output_type": "display_data",
          "data": {
            "image/png": "[encoded data removed]",
            "text/plain": [
              "<Figure size 432x288 with 1 Axes>"
            ]
          },
          "metadata": {
            "needs_background": "light"
          }
        }
      ]
    },
    {
      "cell_type": "markdown",
      "source": [
        "**k-Nearest Neighbors**"
      ],
      "metadata": {
        "id": "nebFazAoj0lL"
      }
    },
    {
      "cell_type": "code",
      "source": [
        "from sklearn.neighbors import KNeighborsClassifier\n",
        "from sklearn.calibration import CalibratedClassifierCV\n",
        "from sklearn.metrics import roc_auc_score\n",
        "%matplotlib inline\n",
        "\n",
        "alpha = [x for x in range(1, 70, 7)]\n",
        "cv_auc_array=[]\n",
        "for i in alpha:\n",
        "    k_cfl=KNeighborsClassifier(n_neighbors=i)\n",
        "    k_cfl.fit(X_train,y_train)\n",
        "    sig_clf = CalibratedClassifierCV(k_cfl, method=\"sigmoid\")\n",
        "    sig_clf.fit(X_train, y_train)\n",
        "    predict_y = sig_clf.predict_proba(X_test)\n",
        "    cv_auc_array.append(roc_auc_score(y_test, predict_y[:,1]))\n",
        "for i in range(len(cv_auc_array)):\n",
        "    print ('AUC for k = ',alpha[i],'is',cv_auc_array[i])\n",
        "best_alpha = np.argmax(cv_auc_array)\n",
        "fig, ax = plt.subplots()\n",
        "ax.plot(alpha, cv_auc_array,c='g')\n",
        "for i, txt in enumerate(np.round(cv_auc_array,3)):\n",
        "    ax.annotate((alpha[i],np.round(txt,3)), (alpha[i],cv_auc_array[i]))\n",
        "plt.grid()\n",
        "plt.title(\"Cross Validation Error for each alpha\")\n",
        "plt.xlabel(\"Alpha i's\")\n",
        "plt.ylabel(\"Error measure\")\n",
        "plt.show()\n",
        "k_cfl=KNeighborsClassifier(n_neighbors=alpha[best_alpha])\n",
        "k_cfl.fit(X_train,y_train)\n",
        "sig_clf = CalibratedClassifierCV(k_cfl, method=\"sigmoid\")\n",
        "sig_clf.fit(X_train, y_train)\n",
        "predict_y = sig_clf.predict_proba(X_train)\n",
        "print ('For values of best alpha = ', alpha[best_alpha], \"The train AUC is:\",roc_auc_score(y_train, predict_y[:,1]))\n",
        "predict_y = sig_clf.predict_proba(X_test)\n",
        "print('For values of best alpha = ', alpha[best_alpha], \"The test AUC is:\",roc_auc_score(y_test, predict_y[:,1]))"
      ],
      "metadata": {
        "colab": {
          "base_uri": "https://localhost:8080/",
          "height": 503
        },
        "id": "j1LweOMWNlQp",
        "outputId": "dafa0b47-a4bc-4ca3-92a5-1176f948a4a8"
      },
      "execution_count": 56,
      "outputs": [
        {
          "output_type": "stream",
          "name": "stdout",
          "text": [
            "AUC for k =  1 is 0.8223822371998346\n",
            "AUC for k =  8 is 0.9060722360612158\n",
            "AUC for k =  15 is 0.9177845413922752\n",
            "AUC for k =  22 is 0.9217508266604081\n",
            "AUC for k =  29 is 0.9230633606446905\n",
            "AUC for k =  36 is 0.9253045805003416\n",
            "AUC for k =  43 is 0.9263376881625484\n",
            "AUC for k =  50 is 0.9275583629219281\n",
            "AUC for k =  57 is 0.9276208126716642\n",
            "AUC for k =  64 is 0.9274617836578009\n"
          ]
        },
        {
          "output_type": "display_data",
          "data": {
            "image/png": "[encoded data removed]",
            "text/plain": [
              "<Figure size 432x288 with 1 Axes>"
            ]
          },
          "metadata": {
            "needs_background": "light"
          }
        },
        {
          "output_type": "stream",
          "name": "stdout",
          "text": [
            "For values of best alpha =  57 The train AUC is: 0.9523113161400156\n",
            "For values of best alpha =  57 The test AUC is: 0.9276208126716642\n"
          ]
        }
      ]
    },
    {
      "cell_type": "code",
      "source": [
        "start_time = time.time()\n",
        "train_pred_knn, test_pred_knn, acc_knn, acc_cv_knn, probs_knn = fit_ml_algo(KNeighborsClassifier(n_neighbors=alpha[best_alpha],\n",
        "                                                                              n_jobs = -1), \n",
        "                                                                              X_train, \n",
        "                                                                              y_train, \n",
        "                                                                              X_test, \n",
        "                                                                              10)\n",
        "knn_time = (time.time() - start_time)\n",
        "print(\"Accuracy: %s\" % acc_knn)\n",
        "print(\"Accuracy CV 10-Fold: %s\" % acc_cv_knn)\n",
        "print(\"Running Time: %s\" % datetime.timedelta(seconds=knn_time))"
      ],
      "metadata": {
        "id": "DGTUrQ9RSL7H",
        "colab": {
          "base_uri": "https://localhost:8080/"
        },
        "outputId": "4373a2e6-c5fd-42d1-8b1b-086d06a9ba55"
      },
      "execution_count": 57,
      "outputs": [
        {
          "output_type": "stream",
          "name": "stdout",
          "text": [
            "Accuracy: 83.55\n",
            "Accuracy CV 10-Fold: 89.23\n",
            "Running Time: 0:02:09.246441\n"
          ]
        }
      ]
    },
    {
      "cell_type": "code",
      "source": [
        "print (metrics.classification_report(y_train, train_pred_knn))"
      ],
      "metadata": {
        "id": "XWdMhzKSSMiK",
        "colab": {
          "base_uri": "https://localhost:8080/"
        },
        "outputId": "80af6e5f-e317-4b86-f5f0-bd4545170edb"
      },
      "execution_count": 58,
      "outputs": [
        {
          "output_type": "stream",
          "name": "stdout",
          "text": [
            "              precision    recall  f1-score   support\n",
            "\n",
            "           0       0.95      0.83      0.89     29254\n",
            "           1       0.85      0.95      0.90     29254\n",
            "\n",
            "    accuracy                           0.89     58508\n",
            "   macro avg       0.90      0.89      0.89     58508\n",
            "weighted avg       0.90      0.89      0.89     58508\n",
            "\n"
          ]
        }
      ]
    },
    {
      "cell_type": "code",
      "source": [
        "print (metrics.classification_report(y_test, test_pred_knn))"
      ],
      "metadata": {
        "id": "l8dTjSsvSOwi",
        "colab": {
          "base_uri": "https://localhost:8080/"
        },
        "outputId": "c8e85e18-0427-4cf8-c10c-8bf0f13f6847"
      },
      "execution_count": 59,
      "outputs": [
        {
          "output_type": "stream",
          "name": "stdout",
          "text": [
            "              precision    recall  f1-score   support\n",
            "\n",
            "           0       0.98      0.83      0.90      7294\n",
            "           1       0.40      0.90      0.56       944\n",
            "\n",
            "    accuracy                           0.84      8238\n",
            "   macro avg       0.69      0.86      0.73      8238\n",
            "weighted avg       0.92      0.84      0.86      8238\n",
            "\n"
          ]
        }
      ]
    },
    {
      "cell_type": "code",
      "source": [
        "plot_roc_curve(y_test, probs_knn)"
      ],
      "metadata": {
        "id": "NalDh99jSR4A",
        "colab": {
          "base_uri": "https://localhost:8080/",
          "height": 295
        },
        "outputId": "66570e46-e44e-4b0e-a876-6b30c61151de"
      },
      "execution_count": 60,
      "outputs": [
        {
          "output_type": "display_data",
          "data": {
            "image/png": "[encoded data removed]",
            "text/plain": [
              "<Figure size 432x288 with 1 Axes>"
            ]
          },
          "metadata": {
            "needs_background": "light"
          }
        }
      ]
    },
    {
      "cell_type": "markdown",
      "source": [
        "**Gaussian Naive Bayes**"
      ],
      "metadata": {
        "id": "Q4mdjMwK6tZU"
      }
    },
    {
      "cell_type": "code",
      "source": [
        "start_time = time.time()\n",
        "train_pred_gaussian, test_pred_gaussian, acc_gaussian, acc_cv_gaussian, probs_gau = fit_ml_algo(GaussianNB(), \n",
        "                                                                                     X_train, \n",
        "                                                                                     y_train, \n",
        "                                                                                     X_test, \n",
        "                                                                                     10)\n",
        "gaussian_time = (time.time() - start_time)\n",
        "print(\"Accuracy: %s\" % acc_gaussian)\n",
        "print(\"Accuracy CV 10-Fold: %s\" % acc_cv_gaussian)\n",
        "print(\"Running Time: %s\" % datetime.timedelta(seconds=gaussian_time))"
      ],
      "metadata": {
        "colab": {
          "base_uri": "https://localhost:8080/"
        },
        "id": "n2SlGpGJSSKp",
        "outputId": "690840ad-8754-4bd7-b97f-581c5b0a608a"
      },
      "execution_count": 61,
      "outputs": [
        {
          "output_type": "stream",
          "name": "stdout",
          "text": [
            "Accuracy: 39.41\n",
            "Accuracy CV 10-Fold: 65.2\n",
            "Running Time: 0:00:01.293168\n"
          ]
        }
      ]
    },
    {
      "cell_type": "code",
      "source": [
        "print (metrics.classification_report(y_train, train_pred_gaussian))"
      ],
      "metadata": {
        "colab": {
          "base_uri": "https://localhost:8080/"
        },
        "id": "6K6GtbLqSarI",
        "outputId": "60dc67c3-9d84-4d09-811c-f0fb8e52671c"
      },
      "execution_count": 62,
      "outputs": [
        {
          "output_type": "stream",
          "name": "stdout",
          "text": [
            "              precision    recall  f1-score   support\n",
            "\n",
            "           0       0.95      0.32      0.48     29254\n",
            "           1       0.59      0.98      0.74     29254\n",
            "\n",
            "    accuracy                           0.65     58508\n",
            "   macro avg       0.77      0.65      0.61     58508\n",
            "weighted avg       0.77      0.65      0.61     58508\n",
            "\n"
          ]
        }
      ]
    },
    {
      "cell_type": "code",
      "source": [
        "print (metrics.classification_report(y_test, test_pred_gaussian))"
      ],
      "metadata": {
        "colab": {
          "base_uri": "https://localhost:8080/"
        },
        "id": "y3LSSMTXScXA",
        "outputId": "022e2464-450d-4e79-e399-7a1596aadb47"
      },
      "execution_count": 63,
      "outputs": [
        {
          "output_type": "stream",
          "name": "stdout",
          "text": [
            "              precision    recall  f1-score   support\n",
            "\n",
            "           0       0.99      0.32      0.48      7294\n",
            "           1       0.16      0.97      0.27       944\n",
            "\n",
            "    accuracy                           0.39      8238\n",
            "   macro avg       0.57      0.65      0.38      8238\n",
            "weighted avg       0.89      0.39      0.46      8238\n",
            "\n"
          ]
        }
      ]
    },
    {
      "cell_type": "code",
      "source": [
        "plot_roc_curve(y_test, probs_gau)"
      ],
      "metadata": {
        "colab": {
          "base_uri": "https://localhost:8080/",
          "height": 295
        },
        "id": "9AZ-ecCtSd1J",
        "outputId": "ae486613-f1ab-45f0-9e57-ca284691ccde"
      },
      "execution_count": 64,
      "outputs": [
        {
          "output_type": "display_data",
          "data": {
            "image/png": "[encoded data removed]",
            "text/plain": [
              "<Figure size 432x288 with 1 Axes>"
            ]
          },
          "metadata": {
            "needs_background": "light"
          }
        }
      ]
    },
    {
      "cell_type": "markdown",
      "source": [
        "**Linear SVC**"
      ],
      "metadata": {
        "id": "igXajCXC6-kK"
      }
    },
    {
      "cell_type": "code",
      "source": [
        "start_time = time.time()\n",
        "train_pred_svc, test_pred_svc, acc_linear_svc, acc_cv_linear_svc, _ = fit_ml_algo(LinearSVC(),\n",
        "                                                                                           X_train, \n",
        "                                                                                           y_train,\n",
        "                                                                                           X_test, \n",
        "                                                                                           10)\n",
        "linear_svc_time = (time.time() - start_time)\n",
        "print(\"Accuracy: %s\" % acc_linear_svc)\n",
        "print(\"Accuracy CV 10-Fold: %s\" % acc_cv_linear_svc)\n",
        "print(\"Running Time: %s\" % datetime.timedelta(seconds=linear_svc_time))"
      ],
      "metadata": {
        "colab": {
          "base_uri": "https://localhost:8080/"
        },
        "id": "lJ5ehc2mSgAS",
        "outputId": "40c847fb-cf1d-4fd9-a4d3-0e5965b3dcbe"
      },
      "execution_count": 65,
      "outputs": [
        {
          "output_type": "stream",
          "name": "stdout",
          "text": [
            "Accuracy: 86.13\n",
            "Accuracy CV 10-Fold: 87.98\n",
            "Running Time: 0:01:08.679806\n"
          ]
        }
      ]
    },
    {
      "cell_type": "code",
      "source": [
        "print (metrics.classification_report(y_train, train_pred_svc))"
      ],
      "metadata": {
        "colab": {
          "base_uri": "https://localhost:8080/"
        },
        "id": "fsq_iuUVUCdT",
        "outputId": "f455065d-df4f-446c-d676-a55f8b17cf8e"
      },
      "execution_count": 68,
      "outputs": [
        {
          "output_type": "stream",
          "name": "stdout",
          "text": [
            "              precision    recall  f1-score   support\n",
            "\n",
            "           0       0.89      0.86      0.88     29254\n",
            "           1       0.87      0.90      0.88     29254\n",
            "\n",
            "    accuracy                           0.88     58508\n",
            "   macro avg       0.88      0.88      0.88     58508\n",
            "weighted avg       0.88      0.88      0.88     58508\n",
            "\n"
          ]
        }
      ]
    },
    {
      "cell_type": "code",
      "source": [
        "print (metrics.classification_report(y_test, test_pred_svc))"
      ],
      "metadata": {
        "colab": {
          "base_uri": "https://localhost:8080/"
        },
        "id": "VkDZYs8LUEUx",
        "outputId": "89312d96-2901-4ab8-ca3a-15823502ed78"
      },
      "execution_count": 69,
      "outputs": [
        {
          "output_type": "stream",
          "name": "stdout",
          "text": [
            "              precision    recall  f1-score   support\n",
            "\n",
            "           0       0.98      0.86      0.92      7294\n",
            "           1       0.45      0.87      0.59       944\n",
            "\n",
            "    accuracy                           0.86      8238\n",
            "   macro avg       0.71      0.86      0.75      8238\n",
            "weighted avg       0.92      0.86      0.88      8238\n",
            "\n"
          ]
        }
      ]
    },
    {
      "cell_type": "code",
      "source": [
        "start_time = time.time()\n",
        "train_pred_sgd, test_pred_sgd, acc_sgd, acc_cv_sgd, _ = fit_ml_algo(SGDClassifier(n_jobs = -1), \n",
        "                                                                 X_train, \n",
        "                                                                 y_train, \n",
        "                                                                 X_test, \n",
        "                                                                 10)\n",
        "sgd_time = (time.time() - start_time)\n",
        "print(\"Accuracy: %s\" % acc_sgd)\n",
        "print(\"Accuracy CV 10-Fold: %s\" % acc_cv_sgd)\n",
        "print(\"Running Time: %s\" % datetime.timedelta(seconds=sgd_time))"
      ],
      "metadata": {
        "colab": {
          "base_uri": "https://localhost:8080/"
        },
        "id": "2UoJpoVRUIHy",
        "outputId": "d18a7206-a55d-4f8f-ca92-05d80adfd231"
      },
      "execution_count": 70,
      "outputs": [
        {
          "output_type": "stream",
          "name": "stdout",
          "text": [
            "Accuracy: 86.04\n",
            "Accuracy CV 10-Fold: 87.96\n",
            "Running Time: 0:00:01.979493\n"
          ]
        }
      ]
    },
    {
      "cell_type": "markdown",
      "source": [
        "**Decision Tree Classifier**"
      ],
      "metadata": {
        "id": "26sEA_Tn7EYJ"
      }
    },
    {
      "cell_type": "code",
      "source": [
        "start_time = time.time()\n",
        "train_pred_dt, test_pred_dt, acc_dt, acc_cv_dt, probs_dt = fit_ml_algo(DecisionTreeClassifier(), \n",
        "                                                             X_train, \n",
        "                                                             y_train, \n",
        "                                                             X_test, \n",
        "                                                             10)\n",
        "dt_time = (time.time() - start_time)\n",
        "print(\"Accuracy: %s\" % acc_dt)\n",
        "print(\"Accuracy CV 10-Fold: %s\" % acc_cv_dt)\n",
        "print(\"Running Time: %s\" % datetime.timedelta(seconds=dt_time))"
      ],
      "metadata": {
        "colab": {
          "base_uri": "https://localhost:8080/"
        },
        "id": "TZNjGVGhUEdB",
        "outputId": "14806e0e-e147-4caa-f107-d41919a80a0f"
      },
      "execution_count": 71,
      "outputs": [
        {
          "output_type": "stream",
          "name": "stdout",
          "text": [
            "Accuracy: 87.97\n",
            "Accuracy CV 10-Fold: 92.42\n",
            "Running Time: 0:00:03.680797\n"
          ]
        }
      ]
    },
    {
      "cell_type": "markdown",
      "source": [
        "**Random Forest**"
      ],
      "metadata": {
        "id": "axzsMs-D79Un"
      }
    },
    {
      "cell_type": "code",
      "source": [
        " Search for Hyperparameters\n",
        "def report(results, n_top=5):\n",
        "    for i in range(1, n_top + 1):\n",
        "        candidates = np.flatnonzero(results['rank_test_score'] == i)\n",
        "        for candidate in candidates:\n",
        "            print(\"Model with rank: {0}\".format(i))\n",
        "            print(\"Mean validation score: {0:.3f} (std: {1:.3f})\".format(\n",
        "                  results['mean_test_score'][candidate],\n",
        "                  results['std_test_score'][candidate]))\n",
        "            print(\"Parameters: {0}\".format(results['params'][candidate]))\n",
        "            print(\"\")\n",
        "            \n",
        "param_dist = {\"max_depth\": [10, None],\n",
        "              \"max_features\": sp_randint(1, 11),\n",
        "              \"min_samples_split\": sp_randint(2, 30),\n",
        "              \"min_samples_leaf\": sp_randint(1, 20),\n",
        "              \"bootstrap\": [True, False],\n",
        "              \"criterion\": [\"gini\", \"entropy\"]}\n",
        "\n",
        "# Run Randomized Search\n",
        "n_iter_search = 10\n",
        "rfc = RandomForestClassifier(n_estimators=10)\n",
        "random_search = RandomizedSearchCV(rfc, \n",
        "                                   n_jobs = -1, \n",
        "                                   param_distributions=param_dist, \n",
        "                                   n_iter=n_iter_search)\n",
        "\n",
        "start = time.time()\n",
        "random_search.fit(X_train, y_train)\n",
        "print(\"RandomizedSearchCV took %.2f seconds for %d candidates\"\n",
        "      \" parameter settings.\" % ((time.time() - start), n_iter_search))\n",
        "report(random_search.cv_results_)"
      ],
      "metadata": {
        "colab": {
          "base_uri": "https://localhost:8080/"
        },
        "id": "8HYORt9tUTj4",
        "outputId": "cb321c2f-755c-4c34-95d6-9a114278db2d"
      },
      "execution_count": 72,
      "outputs": [
        {
          "output_type": "stream",
          "name": "stdout",
          "text": [
            "RandomizedSearchCV took 35.96 seconds for 10 candidates parameter settings.\n",
            "Model with rank: 1\n",
            "Mean validation score: 0.937 (std: 0.018)\n",
            "Parameters: {'bootstrap': True, 'criterion': 'entropy', 'max_depth': None, 'max_features': 7, 'min_samples_leaf': 7, 'min_samples_split': 23}\n",
            "\n",
            "Model with rank: 2\n",
            "Mean validation score: 0.935 (std: 0.023)\n",
            "Parameters: {'bootstrap': False, 'criterion': 'entropy', 'max_depth': None, 'max_features': 3, 'min_samples_leaf': 10, 'min_samples_split': 2}\n",
            "\n",
            "Model with rank: 3\n",
            "Mean validation score: 0.931 (std: 0.015)\n",
            "Parameters: {'bootstrap': True, 'criterion': 'gini', 'max_depth': None, 'max_features': 9, 'min_samples_leaf': 13, 'min_samples_split': 20}\n",
            "\n",
            "Model with rank: 4\n",
            "Mean validation score: 0.930 (std: 0.022)\n",
            "Parameters: {'bootstrap': False, 'criterion': 'gini', 'max_depth': None, 'max_features': 2, 'min_samples_leaf': 13, 'min_samples_split': 14}\n",
            "\n",
            "Model with rank: 5\n",
            "Mean validation score: 0.929 (std: 0.015)\n",
            "Parameters: {'bootstrap': True, 'criterion': 'gini', 'max_depth': None, 'max_features': 7, 'min_samples_leaf': 15, 'min_samples_split': 7}\n",
            "\n"
          ]
        }
      ]
    },
    {
      "cell_type": "code",
      "source": [
        "start_time = time.time()\n",
        "rfc = RandomForestClassifier(n_estimators=10, \n",
        "                             min_samples_leaf=2,\n",
        "                             min_samples_split=17, \n",
        "                             criterion='gini', \n",
        "                             max_features=8)\n",
        "train_pred_rf, test_pred_rf, acc_rf, acc_cv_rf, probs_rf = fit_ml_algo(rfc, \n",
        "                                                             X_train, \n",
        "                                                             y_train, \n",
        "                                                             X_test, \n",
        "                                                             10)\n",
        "rf_time = (time.time() - start_time)\n",
        "print(\"Accuracy: %s\" % acc_rf)\n",
        "print(\"Accuracy CV 10-Fold: %s\" % acc_cv_rf)\n",
        "print(\"Running Time: %s\" % datetime.timedelta(seconds=rf_time))"
      ],
      "metadata": {
        "colab": {
          "base_uri": "https://localhost:8080/"
        },
        "id": "FWr5FO8tU09b",
        "outputId": "678972dd-3ba6-4f8b-bc1f-23bf65a83c5a"
      },
      "execution_count": 73,
      "outputs": [
        {
          "output_type": "stream",
          "name": "stdout",
          "text": [
            "Accuracy: 89.88\n",
            "Accuracy CV 10-Fold: 93.8\n",
            "Running Time: 0:00:10.187155\n"
          ]
        }
      ]
    },
    {
      "cell_type": "markdown",
      "source": [
        "**Gradient Boosting**"
      ],
      "metadata": {
        "id": "_AOf5uAj7eo4"
      }
    },
    {
      "cell_type": "code",
      "source": [
        "start_time = time.time()\n",
        "train_pred_gbt, test_pred_gbt, acc_gbt, acc_cv_gbt, probs_gbt = fit_ml_algo(GradientBoostingClassifier(), \n",
        "                                                                 X_train, \n",
        "                                                                 y_train, \n",
        "                                                                 X_test, \n",
        "                                                                 10)\n",
        "gbt_time = (time.time() - start_time)\n",
        "print(\"Accuracy: %s\" % acc_gbt)\n",
        "print(\"Accuracy CV 10-Fold: %s\" % acc_cv_gbt)\n",
        "print(\"Running Time: %s\" % datetime.timedelta(seconds=gbt_time))"
      ],
      "metadata": {
        "colab": {
          "base_uri": "https://localhost:8080/"
        },
        "id": "AcnGmI7qVDOb",
        "outputId": "c2edf2d0-54b0-4ce7-bc89-293e001f2aee"
      },
      "execution_count": 74,
      "outputs": [
        {
          "output_type": "stream",
          "name": "stdout",
          "text": [
            "Accuracy: 89.22\n",
            "Accuracy CV 10-Fold: 92.7\n",
            "Running Time: 0:01:47.024072\n"
          ]
        }
      ]
    },
    {
      "cell_type": "markdown",
      "source": [
        "**Conclusion: Ta thấy Random Forest cho kết quả tốt nhất, nhưng thời gian tìm Hyperparameters khá lâu**"
      ],
      "metadata": {
        "id": "gBhfW3hF9OW0"
      }
    }
  ]
}